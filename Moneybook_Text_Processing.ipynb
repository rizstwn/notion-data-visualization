{
  "cells": [
    {
      "cell_type": "markdown",
      "metadata": {
        "id": "tTthiL_vBDW1"
      },
      "source": [
        "# Process Data"
      ]
    },
    {
      "cell_type": "code",
      "execution_count": null,
      "metadata": {
        "id": "afoti4ktLiWr"
      },
      "outputs": [],
      "source": [
        "import pandas as pd\n",
        "import numpy as np\n",
        "import re"
      ]
    },
    {
      "cell_type": "code",
      "execution_count": null,
      "metadata": {
        "colab": {
          "base_uri": "https://localhost:8080/",
          "height": 241
        },
        "id": "mtr7HxzgMJh3",
        "outputId": "3ad267e2-fb0b-465a-cad0-fba4a5ada849"
      },
      "outputs": [
        {
          "ename": "FileNotFoundError",
          "evalue": "ignored",
          "output_type": "error",
          "traceback": [
            "\u001b[0;31m---------------------------------------------------------------------------\u001b[0m",
            "\u001b[0;31mFileNotFoundError\u001b[0m                         Traceback (most recent call last)",
            "\u001b[0;32m<ipython-input-2-539af86ee14c>\u001b[0m in \u001b[0;36m<module>\u001b[0;34m()\u001b[0m\n\u001b[0;32m----> 1\u001b[0;31m \u001b[0mtext_file\u001b[0m \u001b[0;34m=\u001b[0m \u001b[0mopen\u001b[0m\u001b[0;34m(\u001b[0m\u001b[0;34m\"spending.txt\"\u001b[0m\u001b[0;34m,\u001b[0m \u001b[0;34m\"r\"\u001b[0m\u001b[0;34m)\u001b[0m\u001b[0;34m\u001b[0m\u001b[0;34m\u001b[0m\u001b[0m\n\u001b[0m\u001b[1;32m      2\u001b[0m \u001b[0mlines\u001b[0m \u001b[0;34m=\u001b[0m \u001b[0mtext_file\u001b[0m\u001b[0;34m.\u001b[0m\u001b[0mread\u001b[0m\u001b[0;34m(\u001b[0m\u001b[0;34m)\u001b[0m\u001b[0;34m.\u001b[0m\u001b[0msplit\u001b[0m\u001b[0;34m(\u001b[0m\u001b[0;34m'\\n'\u001b[0m\u001b[0;34m)\u001b[0m\u001b[0;34m\u001b[0m\u001b[0;34m\u001b[0m\u001b[0m\n\u001b[1;32m      3\u001b[0m \u001b[0mprint\u001b[0m\u001b[0;34m(\u001b[0m\u001b[0mlines\u001b[0m\u001b[0;34m)\u001b[0m\u001b[0;34m\u001b[0m\u001b[0;34m\u001b[0m\u001b[0m\n\u001b[1;32m      4\u001b[0m \u001b[0mprint\u001b[0m\u001b[0;34m(\u001b[0m\u001b[0mlen\u001b[0m\u001b[0;34m(\u001b[0m\u001b[0mlines\u001b[0m\u001b[0;34m)\u001b[0m\u001b[0;34m)\u001b[0m\u001b[0;34m\u001b[0m\u001b[0;34m\u001b[0m\u001b[0m\n\u001b[1;32m      5\u001b[0m \u001b[0mtext_file\u001b[0m\u001b[0;34m.\u001b[0m\u001b[0mclose\u001b[0m\u001b[0;34m(\u001b[0m\u001b[0;34m)\u001b[0m\u001b[0;34m\u001b[0m\u001b[0;34m\u001b[0m\u001b[0m\n",
            "\u001b[0;31mFileNotFoundError\u001b[0m: [Errno 2] No such file or directory: 'spending.txt'"
          ]
        }
      ],
      "source": [
        "text_file = open(\"spending.txt\", \"r\")\n",
        "lines = text_file.read().split('\\n')\n",
        "print(lines)\n",
        "print(len(lines))\n",
        "text_file.close()"
      ]
    },
    {
      "cell_type": "code",
      "execution_count": null,
      "metadata": {
        "id": "z7YkNdyWwHb_"
      },
      "outputs": [],
      "source": [
        "months = {\n",
        "    'jan':1,\n",
        "    'feb':2,\n",
        "    'mar':3,\n",
        "    'apr':4,\n",
        "    'mei':5,\n",
        "    'may':5,\n",
        "    'jun':6,\n",
        "    'jul':7,\n",
        "    'aug':8,\n",
        "    'agu':8,\n",
        "    'sep':9,\n",
        "    'oct':10,\n",
        "    'okt':10,\n",
        "    'nov':11,\n",
        "    'des':12,\n",
        "    'dec':12\n",
        "}\n",
        "def convMonth(text):\n",
        "  for x in months.keys():\n",
        "    if x in text:\n",
        "      return months[x]\n",
        "  return 0"
      ]
    },
    {
      "cell_type": "code",
      "execution_count": null,
      "metadata": {
        "id": "sFUJPhFkOSG6"
      },
      "outputs": [],
      "source": [
        "def buat(x):\n",
        "  global year,tanggal\n",
        "  data = []\n",
        "  x = x.lower().strip()\n",
        "  if \"----\" in x or x == '' or x.isalnum() or \"————\" in x:\n",
        "    #print(tanggal)\n",
        "    return\n",
        "  elif ':' not in x:\n",
        "    print(x,tanggal)\n",
        "    if (tanggal[1] == 12) and ('jan' in x):\n",
        "      year= year+1\n",
        "    tanggal = x.split(\" \")\n",
        "    tanggal[0] = int(tanggal[0])\n",
        "    tanggal[1] = convMonth(tanggal[1])\n",
        "    tanggal.append(year)\n",
        "    #print(tanggal, \"arr\")\n",
        "    return\n",
        "  else:\n",
        "    if '(' not in x:\n",
        "      x = x + \"(cash)\"\n",
        "    data = x.lower().replace(\"(\",\":\").replace(\")\",\"\").split(':')\n",
        "    data = [el.strip() for el in data]\n",
        "    data[0] = float(data[0][:-1])*1000\n",
        "    return data + tanggal"
      ]
    },
    {
      "cell_type": "code",
      "execution_count": null,
      "metadata": {
        "colab": {
          "base_uri": "https://localhost:8080/",
          "height": 241
        },
        "id": "PzfZkYOHZ9of",
        "outputId": "4fab679e-492f-42e4-ea4e-2425241a36e8"
      },
      "outputs": [
        {
          "ename": "NameError",
          "evalue": "ignored",
          "output_type": "error",
          "traceback": [
            "\u001b[0;31m---------------------------------------------------------------------------\u001b[0m",
            "\u001b[0;31mNameError\u001b[0m                                 Traceback (most recent call last)",
            "\u001b[0;32m<ipython-input-5-98bb969af2d6>\u001b[0m in \u001b[0;36m<module>\u001b[0;34m()\u001b[0m\n\u001b[1;32m      2\u001b[0m \u001b[0myear\u001b[0m \u001b[0;34m=\u001b[0m \u001b[0;36m2019\u001b[0m\u001b[0;34m\u001b[0m\u001b[0;34m\u001b[0m\u001b[0m\n\u001b[1;32m      3\u001b[0m \u001b[0mtanggal\u001b[0m \u001b[0;34m=\u001b[0m \u001b[0;34m[\u001b[0m\u001b[0;36m0\u001b[0m\u001b[0;34m,\u001b[0m\u001b[0;36m0\u001b[0m\u001b[0;34m,\u001b[0m\u001b[0;36m0\u001b[0m\u001b[0;34m]\u001b[0m\u001b[0;34m\u001b[0m\u001b[0;34m\u001b[0m\u001b[0m\n\u001b[0;32m----> 4\u001b[0;31m \u001b[0;32mfor\u001b[0m \u001b[0mx\u001b[0m \u001b[0;32min\u001b[0m \u001b[0mlines\u001b[0m\u001b[0;34m:\u001b[0m\u001b[0;34m\u001b[0m\u001b[0;34m\u001b[0m\u001b[0m\n\u001b[0m\u001b[1;32m      5\u001b[0m   \u001b[0mx\u001b[0m \u001b[0;34m=\u001b[0m \u001b[0mx\u001b[0m\u001b[0;34m.\u001b[0m\u001b[0mreplace\u001b[0m\u001b[0;34m(\u001b[0m\u001b[0;34m','\u001b[0m\u001b[0;34m,\u001b[0m\u001b[0;34m\".\"\u001b[0m\u001b[0;34m)\u001b[0m\u001b[0;34m\u001b[0m\u001b[0;34m\u001b[0m\u001b[0m\n\u001b[1;32m      6\u001b[0m   \u001b[0mrow\u001b[0m \u001b[0;34m=\u001b[0m \u001b[0mbuat\u001b[0m\u001b[0;34m(\u001b[0m\u001b[0mx\u001b[0m\u001b[0;34m)\u001b[0m\u001b[0;34m\u001b[0m\u001b[0;34m\u001b[0m\u001b[0m\n",
            "\u001b[0;31mNameError\u001b[0m: name 'lines' is not defined"
          ]
        }
      ],
      "source": [
        "df = pd.DataFrame(columns=['price','name','method','day', 'month', 'year'])\n",
        "year = 2019\n",
        "tanggal = [0,0,0]\n",
        "for x in lines:\n",
        "  x = x.replace(',',\".\")\n",
        "  row = buat(x)\n",
        "  if row != None:\n",
        "    new_df = pd.DataFrame([row],columns=['price','name','method','day', 'month', 'year'])\n",
        "    df = pd.concat([df,new_df], ignore_index=True)\n",
        "df"
      ]
    },
    {
      "cell_type": "code",
      "execution_count": null,
      "metadata": {
        "id": "QlcnrfhZfgJX"
      },
      "outputs": [],
      "source": [
        "df.to_csv(\"hasil.csv\", index=False)"
      ]
    },
    {
      "cell_type": "code",
      "execution_count": null,
      "metadata": {
        "id": "Dsilwz3JnRB9"
      },
      "outputs": [],
      "source": [
        "len([1 for x in lines if \":\" in x])"
      ]
    },
    {
      "cell_type": "markdown",
      "metadata": {
        "id": "VOpTSVaFf1qA"
      },
      "source": [
        "# Retrieve Data"
      ]
    },
    {
      "cell_type": "code",
      "execution_count": null,
      "metadata": {
        "id": "JDgja85ahFJC"
      },
      "outputs": [],
      "source": [
        "import pandas as pd\n",
        "import numpy as np\n",
        "import requests\n",
        "import plotly.graph_objs as go\n",
        "import plotly.express as px\n",
        "import json\n",
        "import pprint"
      ]
    },
    {
      "cell_type": "code",
      "execution_count": null,
      "metadata": {
        "colab": {
          "base_uri": "https://localhost:8080/",
          "height": 206
        },
        "id": "II5vbEXrf3IQ",
        "outputId": "85ca46c6-6b38-4428-e08d-a5337e3a1977"
      },
      "outputs": [
        {
          "data": {
            "text/html": [
              "\n",
              "  <div id=\"df-47b162cd-5c40-4174-bad2-28308841a270\">\n",
              "    <div class=\"colab-df-container\">\n",
              "      <div>\n",
              "<style scoped>\n",
              "    .dataframe tbody tr th:only-of-type {\n",
              "        vertical-align: middle;\n",
              "    }\n",
              "\n",
              "    .dataframe tbody tr th {\n",
              "        vertical-align: top;\n",
              "    }\n",
              "\n",
              "    .dataframe thead th {\n",
              "        text-align: right;\n",
              "    }\n",
              "</style>\n",
              "<table border=\"1\" class=\"dataframe\">\n",
              "  <thead>\n",
              "    <tr style=\"text-align: right;\">\n",
              "      <th></th>\n",
              "      <th>month</th>\n",
              "      <th>harga</th>\n",
              "      <th>Category</th>\n",
              "      <th>price</th>\n",
              "      <th>Property</th>\n",
              "      <th>method</th>\n",
              "      <th>month year</th>\n",
              "      <th>year</th>\n",
              "      <th>day</th>\n",
              "      <th>Date</th>\n",
              "      <th>Name</th>\n",
              "    </tr>\n",
              "  </thead>\n",
              "  <tbody>\n",
              "    <tr>\n",
              "      <th>0</th>\n",
              "      <td>0</td>\n",
              "      <td>35.5k</td>\n",
              "      <td>food and beverages</td>\n",
              "      <td>35500</td>\n",
              "      <td>2022-03-25T12:29:00.000Z</td>\n",
              "      <td>cash</td>\n",
              "      <td>March 2022</td>\n",
              "      <td>0</td>\n",
              "      <td>0</td>\n",
              "      <td>2022-03-25T12:29:00.000+00:00</td>\n",
              "      <td>Food</td>\n",
              "    </tr>\n",
              "    <tr>\n",
              "      <th>1</th>\n",
              "      <td>0</td>\n",
              "      <td>23k</td>\n",
              "      <td>food and beverages</td>\n",
              "      <td>23000</td>\n",
              "      <td>2022-03-23T10:51:00.000Z</td>\n",
              "      <td>cash</td>\n",
              "      <td>March 2022</td>\n",
              "      <td>0</td>\n",
              "      <td>0</td>\n",
              "      <td>2022-03-23T10:51:00.000+00:00</td>\n",
              "      <td>Food and snacks</td>\n",
              "    </tr>\n",
              "    <tr>\n",
              "      <th>2</th>\n",
              "      <td>0</td>\n",
              "      <td>6k</td>\n",
              "      <td>food and beverages</td>\n",
              "      <td>6000</td>\n",
              "      <td>2022-03-21T15:04:00.000Z</td>\n",
              "      <td>cash</td>\n",
              "      <td>March 2022</td>\n",
              "      <td>0</td>\n",
              "      <td>0</td>\n",
              "      <td>2022-03-21T15:04:00.000+00:00</td>\n",
              "      <td>Food</td>\n",
              "    </tr>\n",
              "    <tr>\n",
              "      <th>3</th>\n",
              "      <td>0</td>\n",
              "      <td>42k</td>\n",
              "      <td>food and beverages</td>\n",
              "      <td>42000</td>\n",
              "      <td>2022-03-20T16:01:00.000Z</td>\n",
              "      <td>cash</td>\n",
              "      <td>March 2022</td>\n",
              "      <td>0</td>\n",
              "      <td>0</td>\n",
              "      <td>2022-03-20T16:01:00.000+00:00</td>\n",
              "      <td>Food</td>\n",
              "    </tr>\n",
              "    <tr>\n",
              "      <th>4</th>\n",
              "      <td>0</td>\n",
              "      <td>3k</td>\n",
              "      <td>lifestyle</td>\n",
              "      <td>3000</td>\n",
              "      <td>2022-03-19T02:43:00.000Z</td>\n",
              "      <td>cash</td>\n",
              "      <td>March 2022</td>\n",
              "      <td>0</td>\n",
              "      <td>0</td>\n",
              "      <td>2022-03-19T02:43:00.000+00:00</td>\n",
              "      <td>Conditioner</td>\n",
              "    </tr>\n",
              "  </tbody>\n",
              "</table>\n",
              "</div>\n",
              "      <button class=\"colab-df-convert\" onclick=\"convertToInteractive('df-47b162cd-5c40-4174-bad2-28308841a270')\"\n",
              "              title=\"Convert this dataframe to an interactive table.\"\n",
              "              style=\"display:none;\">\n",
              "        \n",
              "  <svg xmlns=\"http://www.w3.org/2000/svg\" height=\"24px\"viewBox=\"0 0 24 24\"\n",
              "       width=\"24px\">\n",
              "    <path d=\"M0 0h24v24H0V0z\" fill=\"none\"/>\n",
              "    <path d=\"M18.56 5.44l.94 2.06.94-2.06 2.06-.94-2.06-.94-.94-2.06-.94 2.06-2.06.94zm-11 1L8.5 8.5l.94-2.06 2.06-.94-2.06-.94L8.5 2.5l-.94 2.06-2.06.94zm10 10l.94 2.06.94-2.06 2.06-.94-2.06-.94-.94-2.06-.94 2.06-2.06.94z\"/><path d=\"M17.41 7.96l-1.37-1.37c-.4-.4-.92-.59-1.43-.59-.52 0-1.04.2-1.43.59L10.3 9.45l-7.72 7.72c-.78.78-.78 2.05 0 2.83L4 21.41c.39.39.9.59 1.41.59.51 0 1.02-.2 1.41-.59l7.78-7.78 2.81-2.81c.8-.78.8-2.07 0-2.86zM5.41 20L4 18.59l7.72-7.72 1.47 1.35L5.41 20z\"/>\n",
              "  </svg>\n",
              "      </button>\n",
              "      \n",
              "  <style>\n",
              "    .colab-df-container {\n",
              "      display:flex;\n",
              "      flex-wrap:wrap;\n",
              "      gap: 12px;\n",
              "    }\n",
              "\n",
              "    .colab-df-convert {\n",
              "      background-color: #E8F0FE;\n",
              "      border: none;\n",
              "      border-radius: 50%;\n",
              "      cursor: pointer;\n",
              "      display: none;\n",
              "      fill: #1967D2;\n",
              "      height: 32px;\n",
              "      padding: 0 0 0 0;\n",
              "      width: 32px;\n",
              "    }\n",
              "\n",
              "    .colab-df-convert:hover {\n",
              "      background-color: #E2EBFA;\n",
              "      box-shadow: 0px 1px 2px rgba(60, 64, 67, 0.3), 0px 1px 3px 1px rgba(60, 64, 67, 0.15);\n",
              "      fill: #174EA6;\n",
              "    }\n",
              "\n",
              "    [theme=dark] .colab-df-convert {\n",
              "      background-color: #3B4455;\n",
              "      fill: #D2E3FC;\n",
              "    }\n",
              "\n",
              "    [theme=dark] .colab-df-convert:hover {\n",
              "      background-color: #434B5C;\n",
              "      box-shadow: 0px 1px 3px 1px rgba(0, 0, 0, 0.15);\n",
              "      filter: drop-shadow(0px 1px 2px rgba(0, 0, 0, 0.3));\n",
              "      fill: #FFFFFF;\n",
              "    }\n",
              "  </style>\n",
              "\n",
              "      <script>\n",
              "        const buttonEl =\n",
              "          document.querySelector('#df-47b162cd-5c40-4174-bad2-28308841a270 button.colab-df-convert');\n",
              "        buttonEl.style.display =\n",
              "          google.colab.kernel.accessAllowed ? 'block' : 'none';\n",
              "\n",
              "        async function convertToInteractive(key) {\n",
              "          const element = document.querySelector('#df-47b162cd-5c40-4174-bad2-28308841a270');\n",
              "          const dataTable =\n",
              "            await google.colab.kernel.invokeFunction('convertToInteractive',\n",
              "                                                     [key], {});\n",
              "          if (!dataTable) return;\n",
              "\n",
              "          const docLinkHtml = 'Like what you see? Visit the ' +\n",
              "            '<a target=\"_blank\" href=https://colab.research.google.com/notebooks/data_table.ipynb>data table notebook</a>'\n",
              "            + ' to learn more about interactive tables.';\n",
              "          element.innerHTML = '';\n",
              "          dataTable['output_type'] = 'display_data';\n",
              "          await google.colab.output.renderOutput(dataTable, element);\n",
              "          const docLink = document.createElement('div');\n",
              "          docLink.innerHTML = docLinkHtml;\n",
              "          element.appendChild(docLink);\n",
              "        }\n",
              "      </script>\n",
              "    </div>\n",
              "  </div>\n",
              "  "
            ],
            "text/plain": [
              "   month  harga            Category  price                  Property method  \\\n",
              "0      0  35.5k  food and beverages  35500  2022-03-25T12:29:00.000Z   cash   \n",
              "1      0    23k  food and beverages  23000  2022-03-23T10:51:00.000Z   cash   \n",
              "2      0     6k  food and beverages   6000  2022-03-21T15:04:00.000Z   cash   \n",
              "3      0    42k  food and beverages  42000  2022-03-20T16:01:00.000Z   cash   \n",
              "4      0     3k           lifestyle   3000  2022-03-19T02:43:00.000Z   cash   \n",
              "\n",
              "   month year  year  day                           Date             Name  \n",
              "0  March 2022     0    0  2022-03-25T12:29:00.000+00:00             Food  \n",
              "1  March 2022     0    0  2022-03-23T10:51:00.000+00:00  Food and snacks  \n",
              "2  March 2022     0    0  2022-03-21T15:04:00.000+00:00             Food  \n",
              "3  March 2022     0    0  2022-03-20T16:01:00.000+00:00             Food  \n",
              "4  March 2022     0    0  2022-03-19T02:43:00.000+00:00      Conditioner  "
            ]
          },
          "execution_count": 13,
          "metadata": {},
          "output_type": "execute_result"
        }
      ],
      "source": [
        "DATABASE_ID = \"24f44f4bde444255847ebb05354fd7f9\"\n",
        "NOTION_URL = 'https://api.notion.com/v1/databases/'\n",
        "class NotionSync:\n",
        "    def __init__(self):\n",
        "        pass    \n",
        "\n",
        "    def query_databases(self,integration_token=\"secret_INIpbX6eKWFhV8lkWC5QBdmnFJYWJgK7vYOF24cmAG5\",notion_version=\"2022-02-22\"):\n",
        "        database_url = NOTION_URL + DATABASE_ID + \"/query\"\n",
        "        response = requests.post(database_url, headers={\"Authorization\": f\"{integration_token}\",\"Notion-Version\":f\"{notion_version}\"})\n",
        "        if response.status_code != 200:\n",
        "            raise Exception(f'Response Status: {response.status_code} {response.text}')\n",
        "        else:\n",
        "            data = [response.json()]\n",
        "            while response.json()['has_more']:\n",
        "              cur = response.json()['next_cursor']\n",
        "              response = requests.post(database_url, json={'start_cursor':cur}, headers={\"Authorization\": f\"{integration_token}\",\"Notion-Version\":f\"{notion_version}\"})\n",
        "              # print(response.json())\n",
        "              data.append(response.json())\n",
        "            return data\n",
        "    \n",
        "    def get_projects_titles(self,data_json):\n",
        "        return list(data_json[\"results\"][0][\"properties\"].keys())\n",
        "    \n",
        "\n",
        "    def get_projects_data(self,data_json,projects):\n",
        "        data = []\n",
        "        for i in data_json:\n",
        "          res = i[\"results\"]\n",
        "          for val in res:\n",
        "            row = []\n",
        "            el = val['properties']\n",
        "            for p in projects:\n",
        "              tipe = el[p]['type']\n",
        "              # print(tipe)\n",
        "              # pprint.PrettyPrinter(indent=4).pprint(el[p][tipe])\n",
        "              if tipe == 'formula':\n",
        "                key = el[p][tipe]['type']\n",
        "                if key == 'date':\n",
        "                  row.append(el[p][tipe][key]['start'])\n",
        "                else:\n",
        "                  row.append(el[p][tipe][key])\n",
        "              elif tipe =='title':\n",
        "                row.append(el[p][tipe][0]['plain_text'])\n",
        "              elif tipe =='select':\n",
        "                # print(el[p][tipe])\n",
        "                row.append(el[p][tipe]['name'])\n",
        "              elif tipe == 'rich_text':\n",
        "                # print(el[p][tipe])\n",
        "                row.append(el[p][tipe][0]['text']['content'])\n",
        "              else:\n",
        "                row.append(el[p][tipe])\n",
        "            data.append(row)\n",
        "        return data\n",
        "\n",
        "nsync = NotionSync()\n",
        "data = nsync.query_databases()\n",
        "projects = nsync.get_projects_titles(data[0])\n",
        "data = nsync.get_projects_data(data,projects)\n",
        "money_df = pd.DataFrame(data, columns = projects)\n",
        "money_df.head()"
      ]
    },
    {
      "cell_type": "code",
      "execution_count": null,
      "metadata": {
        "id": "xWSdt_3W9Vm7"
      },
      "outputs": [],
      "source": [
        "money_df.shape"
      ]
    },
    {
      "cell_type": "code",
      "execution_count": null,
      "metadata": {
        "id": "n-tZEw-8051Y"
      },
      "outputs": [],
      "source": [
        "money_df.to_excel(\"moneybook.xlsx\")"
      ]
    },
    {
      "cell_type": "markdown",
      "metadata": {
        "id": "l12Ru_ZCBOYq"
      },
      "source": [
        "# Categorize Data"
      ]
    },
    {
      "cell_type": "code",
      "execution_count": null,
      "metadata": {
        "colab": {
          "base_uri": "https://localhost:8080/"
        },
        "id": "ceQEwMvvBSz2",
        "outputId": "8cd00cfb-b271-469c-f2ff-09abc9f69a11"
      },
      "outputs": [
        {
          "name": "stdout",
          "output_type": "stream",
          "text": [
            "Collecting googletrans==3.1.0a0\n",
            "  Downloading googletrans-3.1.0a0.tar.gz (19 kB)\n",
            "Collecting httpx==0.13.3\n",
            "  Downloading httpx-0.13.3-py3-none-any.whl (55 kB)\n",
            "\u001b[K     |████████████████████████████████| 55 kB 2.3 MB/s \n",
            "\u001b[?25hRequirement already satisfied: certifi in /usr/local/lib/python3.7/dist-packages (from httpx==0.13.3->googletrans==3.1.0a0) (2021.10.8)\n",
            "Collecting sniffio\n",
            "  Downloading sniffio-1.2.0-py3-none-any.whl (10 kB)\n",
            "Collecting httpcore==0.9.*\n",
            "  Downloading httpcore-0.9.1-py3-none-any.whl (42 kB)\n",
            "\u001b[K     |████████████████████████████████| 42 kB 1.4 MB/s \n",
            "\u001b[?25hRequirement already satisfied: idna==2.* in /usr/local/lib/python3.7/dist-packages (from httpx==0.13.3->googletrans==3.1.0a0) (2.10)\n",
            "Collecting rfc3986<2,>=1.3\n",
            "  Downloading rfc3986-1.5.0-py2.py3-none-any.whl (31 kB)\n",
            "Collecting hstspreload\n",
            "  Downloading hstspreload-2021.12.1-py3-none-any.whl (1.3 MB)\n",
            "\u001b[K     |████████████████████████████████| 1.3 MB 10.5 MB/s \n",
            "\u001b[?25hRequirement already satisfied: chardet==3.* in /usr/local/lib/python3.7/dist-packages (from httpx==0.13.3->googletrans==3.1.0a0) (3.0.4)\n",
            "Collecting h11<0.10,>=0.8\n",
            "  Downloading h11-0.9.0-py2.py3-none-any.whl (53 kB)\n",
            "\u001b[K     |████████████████████████████████| 53 kB 1.4 MB/s \n",
            "\u001b[?25hCollecting h2==3.*\n",
            "  Downloading h2-3.2.0-py2.py3-none-any.whl (65 kB)\n",
            "\u001b[K     |████████████████████████████████| 65 kB 3.6 MB/s \n",
            "\u001b[?25hCollecting hpack<4,>=3.0\n",
            "  Downloading hpack-3.0.0-py2.py3-none-any.whl (38 kB)\n",
            "Collecting hyperframe<6,>=5.2.0\n",
            "  Downloading hyperframe-5.2.0-py2.py3-none-any.whl (12 kB)\n",
            "Building wheels for collected packages: googletrans\n",
            "  Building wheel for googletrans (setup.py) ... \u001b[?25l\u001b[?25hdone\n",
            "  Created wheel for googletrans: filename=googletrans-3.1.0a0-py3-none-any.whl size=16367 sha256=49f3a9c081a1d3f59bb7c52df2b36f56c54a12a242f367f3d5dffccb052a1421\n",
            "  Stored in directory: /root/.cache/pip/wheels/0c/be/fe/93a6a40ffe386e16089e44dad9018ebab9dc4cb9eb7eab65ae\n",
            "Successfully built googletrans\n",
            "Installing collected packages: hyperframe, hpack, sniffio, h2, h11, rfc3986, httpcore, hstspreload, httpx, googletrans\n",
            "Successfully installed googletrans-3.1.0a0 h11-0.9.0 h2-3.2.0 hpack-3.0.0 hstspreload-2021.12.1 httpcore-0.9.1 httpx-0.13.3 hyperframe-5.2.0 rfc3986-1.5.0 sniffio-1.2.0\n"
          ]
        }
      ],
      "source": [
        "!pip install googletrans==3.1.0a0"
      ]
    },
    {
      "cell_type": "code",
      "execution_count": null,
      "metadata": {
        "id": "uX_D_4fCCr5n"
      },
      "outputs": [],
      "source": [
        "from googletrans import Translator \n",
        "\n",
        "#simple function to detect and translate text \n",
        "def detect_and_translate(text,target_lang):\n",
        "    tl = Translator()\n",
        "    result_lang = tl.detect(text['Name'])\n",
        "    print(text['Name'], result_lang)\n",
        "    result_lang = result_lang.lang if type(result_lang.lang) == str else result_lang.lang[0]\n",
        "    if result_lang not in ['id','ja','ms','jw']:\n",
        "        print(result_lang,target_lang)\n",
        "        text['lang'] = target_lang if result_lang==target_lang else np.NaN\n",
        "        text['translation'] = text['Name']\n",
        "        #print(text)\n",
        "        return text \n",
        "    \n",
        "    else:\n",
        "        text['translation'] = tl.translate(text['Name'],src=result_lang,dest=target_lang).text\n",
        "        text['lang'] = target_lang\n",
        "        return text"
      ]
    },
    {
      "cell_type": "code",
      "execution_count": null,
      "metadata": {
        "id": "aXF9g0XNCzTK"
      },
      "outputs": [],
      "source": [
        "text_df = pd.DataFrame(money_df['Name'].apply(lambda x: x.lower()), columns=['Name','translation','lang'])\n",
        "text_df = text_df.drop_duplicates(subset=['Name'], ignore_index=True)"
      ]
    },
    {
      "cell_type": "code",
      "execution_count": null,
      "metadata": {
        "colab": {
          "base_uri": "https://localhost:8080/",
          "height": 175
        },
        "id": "jROo_io8DXqo",
        "outputId": "09664f44-afec-4237-88f7-d40cfa292cea"
      },
      "outputs": [
        {
          "data": {
            "text/html": [
              "\n",
              "  <div id=\"df-5ae921f1-9c39-4491-9703-d4cd22ef6a6b\">\n",
              "    <div class=\"colab-df-container\">\n",
              "      <div>\n",
              "<style scoped>\n",
              "    .dataframe tbody tr th:only-of-type {\n",
              "        vertical-align: middle;\n",
              "    }\n",
              "\n",
              "    .dataframe tbody tr th {\n",
              "        vertical-align: top;\n",
              "    }\n",
              "\n",
              "    .dataframe thead th {\n",
              "        text-align: right;\n",
              "    }\n",
              "</style>\n",
              "<table border=\"1\" class=\"dataframe\">\n",
              "  <thead>\n",
              "    <tr style=\"text-align: right;\">\n",
              "      <th></th>\n",
              "      <th>Name</th>\n",
              "      <th>translation</th>\n",
              "      <th>lang</th>\n",
              "    </tr>\n",
              "  </thead>\n",
              "  <tbody>\n",
              "    <tr>\n",
              "      <th>count</th>\n",
              "      <td>179</td>\n",
              "      <td>0</td>\n",
              "      <td>0</td>\n",
              "    </tr>\n",
              "    <tr>\n",
              "      <th>unique</th>\n",
              "      <td>179</td>\n",
              "      <td>0</td>\n",
              "      <td>0</td>\n",
              "    </tr>\n",
              "    <tr>\n",
              "      <th>top</th>\n",
              "      <td>kipas angin</td>\n",
              "      <td>NaN</td>\n",
              "      <td>NaN</td>\n",
              "    </tr>\n",
              "    <tr>\n",
              "      <th>freq</th>\n",
              "      <td>1</td>\n",
              "      <td>NaN</td>\n",
              "      <td>NaN</td>\n",
              "    </tr>\n",
              "  </tbody>\n",
              "</table>\n",
              "</div>\n",
              "      <button class=\"colab-df-convert\" onclick=\"convertToInteractive('df-5ae921f1-9c39-4491-9703-d4cd22ef6a6b')\"\n",
              "              title=\"Convert this dataframe to an interactive table.\"\n",
              "              style=\"display:none;\">\n",
              "        \n",
              "  <svg xmlns=\"http://www.w3.org/2000/svg\" height=\"24px\"viewBox=\"0 0 24 24\"\n",
              "       width=\"24px\">\n",
              "    <path d=\"M0 0h24v24H0V0z\" fill=\"none\"/>\n",
              "    <path d=\"M18.56 5.44l.94 2.06.94-2.06 2.06-.94-2.06-.94-.94-2.06-.94 2.06-2.06.94zm-11 1L8.5 8.5l.94-2.06 2.06-.94-2.06-.94L8.5 2.5l-.94 2.06-2.06.94zm10 10l.94 2.06.94-2.06 2.06-.94-2.06-.94-.94-2.06-.94 2.06-2.06.94z\"/><path d=\"M17.41 7.96l-1.37-1.37c-.4-.4-.92-.59-1.43-.59-.52 0-1.04.2-1.43.59L10.3 9.45l-7.72 7.72c-.78.78-.78 2.05 0 2.83L4 21.41c.39.39.9.59 1.41.59.51 0 1.02-.2 1.41-.59l7.78-7.78 2.81-2.81c.8-.78.8-2.07 0-2.86zM5.41 20L4 18.59l7.72-7.72 1.47 1.35L5.41 20z\"/>\n",
              "  </svg>\n",
              "      </button>\n",
              "      \n",
              "  <style>\n",
              "    .colab-df-container {\n",
              "      display:flex;\n",
              "      flex-wrap:wrap;\n",
              "      gap: 12px;\n",
              "    }\n",
              "\n",
              "    .colab-df-convert {\n",
              "      background-color: #E8F0FE;\n",
              "      border: none;\n",
              "      border-radius: 50%;\n",
              "      cursor: pointer;\n",
              "      display: none;\n",
              "      fill: #1967D2;\n",
              "      height: 32px;\n",
              "      padding: 0 0 0 0;\n",
              "      width: 32px;\n",
              "    }\n",
              "\n",
              "    .colab-df-convert:hover {\n",
              "      background-color: #E2EBFA;\n",
              "      box-shadow: 0px 1px 2px rgba(60, 64, 67, 0.3), 0px 1px 3px 1px rgba(60, 64, 67, 0.15);\n",
              "      fill: #174EA6;\n",
              "    }\n",
              "\n",
              "    [theme=dark] .colab-df-convert {\n",
              "      background-color: #3B4455;\n",
              "      fill: #D2E3FC;\n",
              "    }\n",
              "\n",
              "    [theme=dark] .colab-df-convert:hover {\n",
              "      background-color: #434B5C;\n",
              "      box-shadow: 0px 1px 3px 1px rgba(0, 0, 0, 0.15);\n",
              "      filter: drop-shadow(0px 1px 2px rgba(0, 0, 0, 0.3));\n",
              "      fill: #FFFFFF;\n",
              "    }\n",
              "  </style>\n",
              "\n",
              "      <script>\n",
              "        const buttonEl =\n",
              "          document.querySelector('#df-5ae921f1-9c39-4491-9703-d4cd22ef6a6b button.colab-df-convert');\n",
              "        buttonEl.style.display =\n",
              "          google.colab.kernel.accessAllowed ? 'block' : 'none';\n",
              "\n",
              "        async function convertToInteractive(key) {\n",
              "          const element = document.querySelector('#df-5ae921f1-9c39-4491-9703-d4cd22ef6a6b');\n",
              "          const dataTable =\n",
              "            await google.colab.kernel.invokeFunction('convertToInteractive',\n",
              "                                                     [key], {});\n",
              "          if (!dataTable) return;\n",
              "\n",
              "          const docLinkHtml = 'Like what you see? Visit the ' +\n",
              "            '<a target=\"_blank\" href=https://colab.research.google.com/notebooks/data_table.ipynb>data table notebook</a>'\n",
              "            + ' to learn more about interactive tables.';\n",
              "          element.innerHTML = '';\n",
              "          dataTable['output_type'] = 'display_data';\n",
              "          await google.colab.output.renderOutput(dataTable, element);\n",
              "          const docLink = document.createElement('div');\n",
              "          docLink.innerHTML = docLinkHtml;\n",
              "          element.appendChild(docLink);\n",
              "        }\n",
              "      </script>\n",
              "    </div>\n",
              "  </div>\n",
              "  "
            ],
            "text/plain": [
              "               Name translation lang\n",
              "count           179           0    0\n",
              "unique          179           0    0\n",
              "top     kipas angin         NaN  NaN\n",
              "freq              1         NaN  NaN"
            ]
          },
          "execution_count": 16,
          "metadata": {},
          "output_type": "execute_result"
        }
      ],
      "source": [
        "text_df.describe()"
      ]
    },
    {
      "cell_type": "code",
      "execution_count": null,
      "metadata": {
        "colab": {
          "base_uri": "https://localhost:8080/",
          "height": 36
        },
        "id": "Wg2zExXnP82x",
        "outputId": "eff9eeda-d8af-4644-f404-6eb8f007326c"
      },
      "outputs": [
        {
          "data": {
            "application/vnd.google.colaboratory.intrinsic+json": {
              "type": "string"
            },
            "text/plain": [
              "'id'"
            ]
          },
          "execution_count": 17,
          "metadata": {},
          "output_type": "execute_result"
        }
      ],
      "source": [
        "Translator().detect('Buku').lang"
      ]
    },
    {
      "cell_type": "code",
      "execution_count": null,
      "metadata": {
        "colab": {
          "base_uri": "https://localhost:8080/"
        },
        "id": "mfYWqa7mDaAu",
        "outputId": "2aeb5711-fb82-4981-b647-4108aff0ed36"
      },
      "outputs": [
        {
          "name": "stdout",
          "output_type": "stream",
          "text": [
            "kipas angin Detected(lang=['id', 'ms'], confidence=[0.5857864, 0.41421357])\n",
            "topup gopay Detected(lang=cs, confidence=0.4533093)\n",
            "cs en\n",
            "food Detected(lang=en, confidence=1)\n",
            "en en\n",
            "sisir butterfly Detected(lang=id, confidence=0.76794827)\n",
            "lapangan Detected(lang=id, confidence=0.68774706)\n",
            "drinks Detected(lang=en, confidence=1)\n",
            "en en\n",
            "eggs Detected(lang=en, confidence=1)\n",
            "en en\n",
            "milk Detected(lang=en, confidence=0.9869792)\n",
            "en en\n",
            "bedak muka Detected(lang=id, confidence=0.805886)\n",
            "steam wallet Detected(lang=en, confidence=1)\n",
            "en en\n",
            "topup dana Detected(lang=id, confidence=0.88673145)\n",
            "snacks Detected(lang=en, confidence=0.9356111)\n",
            "en en\n",
            "laundry Detected(lang=en, confidence=0.98307294)\n",
            "en en\n",
            "hp realme gt master Detected(lang=en, confidence=0.91365755)\n",
            "en en\n",
            "water Detected(lang=en, confidence=0.98307294)\n",
            "en en\n",
            "buku Detected(lang=id, confidence=0.7782101)\n",
            "masjid Detected(lang=ms, confidence=0.30078125)\n",
            "biaya admin Detected(lang=id, confidence=0.97744507)\n",
            "food n drink Detected(lang=en, confidence=1)\n",
            "en en\n",
            "parkir Detected(lang=id, confidence=0.9609375)\n",
            "drink Detected(lang=en, confidence=1)\n",
            "en en\n",
            "training pants Detected(lang=en, confidence=1)\n",
            "en en\n",
            "ice cream Detected(lang=en, confidence=0.9211813)\n",
            "en en\n",
            "bensin Detected(lang=id, confidence=0.52509654)\n",
            "snack Detected(lang=en, confidence=0.904)\n",
            "en en\n",
            "es Detected(lang=es, confidence=0.5)\n",
            "es en\n",
            "monthly needs Detected(lang=en, confidence=1)\n",
            "en en\n",
            "steam game Detected(lang=en, confidence=1)\n",
            "en en\n",
            "atk Detected(lang=en, confidence=0.70696455)\n",
            "en en\n",
            "if else hukuman Detected(lang=en, confidence=0.918062)\n",
            "en en\n",
            "birthday expenses Detected(lang=en, confidence=1)\n",
            "en en\n",
            "tokped Detected(lang=en, confidence=0.6414842)\n",
            "en en\n",
            "hvs warna Detected(lang=id, confidence=0.61573976)\n",
            "meetup Detected(lang=en, confidence=0.98307294)\n",
            "en en\n",
            "bultang Detected(lang=sv, confidence=1)\n",
            "sv en\n",
            "diapers Detected(lang=en, confidence=0.9895833)\n",
            "en en\n",
            "books Detected(lang=en, confidence=1)\n",
            "en en\n",
            "duplikat kunci Detected(lang=id, confidence=0.97452956)\n",
            "bagasi Detected(lang=id, confidence=0.8984375)\n",
            "jas hujan Detected(lang=id, confidence=0.8845376)\n",
            "uang jajan ais Detected(lang=id, confidence=0.98730576)\n",
            "ddb Detected(lang=en, confidence=0.9765625)\n",
            "en en\n",
            "ovo Detected(lang=['bs', 'hr'], confidence=[0.61389965, 0.34749037])\n",
            "bs en\n",
            "motor Detected(lang=en, confidence=0.7893369)\n",
            "en en\n",
            "masker Detected(lang=id, confidence=0.5)\n",
            "topup link aja Detected(lang=id, confidence=0.77744937)\n",
            "print Detected(lang=en, confidence=0.98951507)\n",
            "en en\n",
            "baju Detected(lang=id, confidence=0.8515625)\n",
            "movie Detected(lang=en, confidence=1)\n",
            "en en\n",
            "medicine Detected(lang=en, confidence=1)\n",
            "en en\n",
            "panitia Detected(lang=id, confidence=0.9296875)\n",
            "daily need Detected(lang=en, confidence=1)\n",
            "en en\n",
            "pembatas Detected(lang=id, confidence=0.94140625)\n",
            "kartu Detected(lang=['id', 'lt'], confidence=[0.37109375, 0.3515625])\n",
            "japanese lesson Detected(lang=en, confidence=1)\n",
            "en en\n",
            "sticker Detected(lang=en, confidence=0.90657884)\n",
            "en en\n",
            "travel Detected(lang=en, confidence=1)\n",
            "en en\n",
            "sumbangan Detected(lang=ms, confidence=0.7109375)\n",
            "healing items Detected(lang=en, confidence=1)\n",
            "en en\n",
            "welkin gi Detected(lang=el, confidence=0.49503592)\n",
            "el en\n",
            "tambal ban Detected(lang=id, confidence=0.35731223)\n",
            "sanbercode react class Detected(lang=en, confidence=1)\n",
            "en en\n",
            "topup ovo Detected(lang=['hr', 'pt'], confidence=[0.5990418, 0.35619238])\n",
            "hr en\n",
            "tws Detected(lang=hmn, confidence=0.7109375)\n",
            "hmn en\n",
            "tas Detected(lang=lv, confidence=0.42801556)\n",
            "lv en\n",
            "uniqlo Detected(lang=en, confidence=0.527287)\n",
            "en en\n",
            "lomba app dev Detected(lang=en, confidence=0.5642687)\n",
            "en en\n",
            "jaket & kaos bcc Detected(lang=id, confidence=1)\n",
            "pulsa Detected(lang=id, confidence=0.75289583)\n",
            "casing Detected(lang=en, confidence=0.953125)\n",
            "en en\n",
            "google play code Detected(lang=en, confidence=1)\n",
            "en en\n",
            "eat Detected(lang=en, confidence=1)\n",
            "en en\n",
            "cafe Detected(lang=en, confidence=0.8441559)\n",
            "en en\n",
            "koi Detected(lang=hi, confidence=0.3875969)\n",
            "hi en\n",
            "transport Detected(lang=en, confidence=0.85317457)\n",
            "en en\n",
            "parking Detected(lang=en, confidence=0.96010643)\n",
            "en en\n",
            "slayer Detected(lang=en, confidence=0.9862826)\n",
            "en en\n",
            "utang baruna Detected(lang=id, confidence=0.70849687)\n",
            "tissue Detected(lang=en, confidence=1)\n",
            "en en\n",
            "coffee Detected(lang=en, confidence=1)\n",
            "en en\n",
            "ospek Detected(lang=id, confidence=1)\n",
            "food & drinks Detected(lang=en, confidence=1)\n",
            "en en\n",
            "stationery agung Detected(lang=id, confidence=0.37447673)\n",
            "shopee Detected(lang=['mr', 'hi'], confidence=[0.47085518, 0.4112372])\n",
            "mr en\n",
            "laptop Detected(lang=en, confidence=0.8252688)\n",
            "en en\n",
            "kko emon utang Detected(lang=jw, confidence=0.58723354)\n",
            "gas Detected(lang=en, confidence=0.939314)\n",
            "en en\n",
            "daily needs Detected(lang=en, confidence=1)\n",
            "en en\n",
            "aw rootbeer Detected(lang=['so', 'en'], confidence=[0.5228452, 0.392399])\n",
            "so en\n",
            "iuran Detected(lang=id, confidence=0.96875)\n",
            "tiket pesawat Detected(lang=id, confidence=0.8856391)\n",
            "shoes Detected(lang=en, confidence=1)\n",
            "en en\n",
            "minum Detected(lang=id, confidence=0.73046875)\n",
            "kkn filkom Detected(lang=id, confidence=1)\n",
            "anti gores hp Detected(lang=id, confidence=0.64896566)\n",
            "park Detected(lang=en, confidence=0.96747965)\n",
            "en en\n",
            "benang gigi Detected(lang=id, confidence=0.8888889)\n",
            "gunting rambut Detected(lang=['id', 'ms'], confidence=[0.5189442, 0.48105583])\n",
            "oli Detected(lang=['fi', 'et'], confidence=[0.53281856, 0.36679536])\n",
            "fi en\n",
            "mie setan Detected(lang=id, confidence=0.82941824)\n",
            "plate-o Detected(lang=en, confidence=0.22862858)\n",
            "en en\n",
            "grab Detected(lang=en, confidence=0.9869792)\n",
            "en en\n",
            "tiket museum angkut Detected(lang=id, confidence=0.9286948)\n",
            "upgrade premium todai news Detected(lang=en, confidence=1)\n",
            "en en\n",
            "ais Detected(lang=ga, confidence=0.43478253)\n",
            "ga en\n",
            "joints Detected(lang=en, confidence=0.9401042)\n",
            "en en\n",
            "motorcycle Detected(lang=en, confidence=1)\n",
            "en en\n",
            "lomba Detected(lang=id, confidence=0.8803089)\n",
            "bread n milk Detected(lang=en, confidence=1)\n",
            "en en\n",
            "inau filkom Detected(lang=hi, confidence=0.47344834)\n",
            "hi en\n",
            "shampoo Detected(lang=en, confidence=0.88829786)\n",
            "en en\n",
            "kolam Detected(lang=id, confidence=0.78125)\n",
            "link aja Detected(lang=id, confidence=0.91891307)\n",
            "charger motor Detected(lang=en, confidence=1)\n",
            "en en\n",
            "top up ovo Detected(lang=en, confidence=0.34808993)\n",
            "en en\n",
            "baygon Detected(lang=ms, confidence=0.74022484)\n",
            "bread for risdar Detected(lang=en, confidence=1)\n",
            "en en\n",
            "topup e toll Detected(lang=no, confidence=0.3853479)\n",
            "no en\n",
            "danus Detected(lang=ta, confidence=1)\n",
            "ta en\n",
            "stop kontak Detected(lang=jw, confidence=0.8190844)\n",
            "utang ridha Detected(lang=id, confidence=0.5031335)\n",
            "pull & bear kaos Detected(lang=en, confidence=0.46644622)\n",
            "en en\n",
            "snack and drink Detected(lang=en, confidence=1)\n",
            "en en\n",
            "pants Detected(lang=en, confidence=0.9739583)\n",
            "en en\n",
            "bedak muka + insto Detected(lang=id, confidence=0.9563396)\n",
            "indomie Detected(lang=id, confidence=0.98046875)\n",
            "bread Detected(lang=en, confidence=1)\n",
            "en en\n",
            "antigen Detected(lang=en, confidence=0.98689383)\n",
            "en en\n",
            "gi battle pass Detected(lang=en, confidence=0.5396713)\n",
            "en en\n",
            "hand sanitizer Detected(lang=en, confidence=1)\n",
            "en en\n",
            "map Detected(lang=en, confidence=1)\n",
            "en en\n",
            "project zomboid 4p bundle Detected(lang=en, confidence=1)\n",
            "en en\n",
            "book Detected(lang=en, confidence=1)\n",
            "en en\n",
            "diklat Detected(lang=id, confidence=0.98046875)\n",
            "ddb danus Detected(lang=en, confidence=0.94994915)\n",
            "en en\n",
            "mix Detected(lang=en, confidence=0.961126)\n",
            "en en\n",
            "lapangan bultang Detected(lang=sv, confidence=0.48040625)\n",
            "sv en\n",
            "uang kas bcc Detected(lang=su, confidence=0.7336465)\n",
            "su en\n",
            "office + windows asli Detected(lang=ms, confidence=0.26272997)\n",
            "brush Detected(lang=en, confidence=1)\n",
            "en en\n",
            "日本語のクラス Detected(lang=ja, confidence=1)\n",
            "panama sandals Detected(lang=en, confidence=1)\n",
            "en en\n",
            "casing + antigores Detected(lang=pt, confidence=0.9826103)\n",
            "pt en\n",
            "kai Detected(lang=el, confidence=0.8498024)\n",
            "el en\n",
            "arkavidia Detected(lang=hi, confidence=1)\n",
            "hi en\n",
            "roxy sandals Detected(lang=en, confidence=1)\n",
            "en en\n",
            "poster Detected(lang=en, confidence=0.88322145)\n",
            "en en\n",
            "mouse gaming Detected(lang=en, confidence=1)\n",
            "en en\n",
            "utangnya ridha Detected(lang=id, confidence=0.7140571)\n",
            "ichiban Detected(lang=ja, confidence=1)\n",
            "steam Detected(lang=en, confidence=0.986376)\n",
            "en en\n",
            "galon Detected(lang=id, confidence=0.38039216)\n",
            "a&w Detected(lang=en, confidence=0.9755831)\n",
            "en en\n",
            "dana Detected(lang=en, confidence=0.69801325)\n",
            "en en\n",
            "breadtalk Detected(lang=id, confidence=1)\n",
            "toilet Detected(lang=en, confidence=0.924183)\n",
            "en en\n",
            "boba drinks Detected(lang=en, confidence=1)\n",
            "en en\n",
            "hdmi to c cable Detected(lang=en, confidence=1)\n",
            "en en\n",
            "kripik Detected(lang=id, confidence=0.87890625)\n",
            "tr Detected(lang=en, confidence=0.7460938)\n",
            "en en\n",
            "tissue and camilan Detected(lang=en, confidence=0.9332182)\n",
            "en en\n",
            "film Detected(lang=en, confidence=0.821382)\n",
            "en en\n",
            "tools hardware Detected(lang=en, confidence=1)\n",
            "en en\n",
            "jacket Detected(lang=en, confidence=0.9867512)\n",
            "en en\n",
            "titipan Detected(lang=id, confidence=0.9296875)\n",
            "calculator Detected(lang=en, confidence=0.90600526)\n",
            "en en\n",
            "isi pulsa Detected(lang=id, confidence=1)\n",
            "cleaning kit Detected(lang=en, confidence=1)\n",
            "en en\n",
            "h&m swimwear Detected(lang=en, confidence=1)\n",
            "en en\n",
            "movie tickets Detected(lang=en, confidence=1)\n",
            "en en\n",
            "hardware tools Detected(lang=en, confidence=1)\n",
            "en en\n",
            "wet wipes Detected(lang=en, confidence=1)\n",
            "en en\n",
            "paper Detected(lang=en, confidence=0.98955613)\n",
            "en en\n",
            "ukm Detected(lang=id, confidence=0.80859375)\n",
            "hp + garansi 1 tahun bapak Detected(lang=id, confidence=0.9619461)\n",
            "citrus Detected(lang=en, confidence=0.96547145)\n",
            "en en\n",
            "stylus pen Detected(lang=en, confidence=0.7169505)\n",
            "en en\n",
            "member card Detected(lang=en, confidence=1)\n",
            "en en\n",
            "ram Detected(lang=en, confidence=0.8063242)\n",
            "en en\n"
          ]
        }
      ],
      "source": [
        "text_df = text_df.apply(detect_and_translate, axis=1, args=('en',))"
      ]
    },
    {
      "cell_type": "code",
      "execution_count": null,
      "metadata": {
        "colab": {
          "base_uri": "https://localhost:8080/"
        },
        "id": "TJzThdnAWoVL",
        "outputId": "38bd0935-8255-4994-f875-913bea812020"
      },
      "outputs": [
        {
          "data": {
            "text/plain": [
              "Name           21\n",
              "translation    21\n",
              "lang            0\n",
              "dtype: int64"
            ]
          },
          "execution_count": 19,
          "metadata": {},
          "output_type": "execute_result"
        }
      ],
      "source": [
        "text_df.loc[text_df['lang']!='en'].count()"
      ]
    },
    {
      "cell_type": "code",
      "execution_count": null,
      "metadata": {
        "colab": {
          "base_uri": "https://localhost:8080/",
          "height": 708
        },
        "id": "Z5T33dMRRev3",
        "outputId": "d7c300e6-02a3-40d3-d0c9-5951392028ce"
      },
      "outputs": [
        {
          "data": {
            "text/html": [
              "\n",
              "  <div id=\"df-fbb27c9d-3fe7-40c6-89ab-b21ba40c2b0d\">\n",
              "    <div class=\"colab-df-container\">\n",
              "      <div>\n",
              "<style scoped>\n",
              "    .dataframe tbody tr th:only-of-type {\n",
              "        vertical-align: middle;\n",
              "    }\n",
              "\n",
              "    .dataframe tbody tr th {\n",
              "        vertical-align: top;\n",
              "    }\n",
              "\n",
              "    .dataframe thead th {\n",
              "        text-align: right;\n",
              "    }\n",
              "</style>\n",
              "<table border=\"1\" class=\"dataframe\">\n",
              "  <thead>\n",
              "    <tr style=\"text-align: right;\">\n",
              "      <th></th>\n",
              "      <th>Name</th>\n",
              "      <th>translation</th>\n",
              "      <th>lang</th>\n",
              "    </tr>\n",
              "  </thead>\n",
              "  <tbody>\n",
              "    <tr>\n",
              "      <th>1</th>\n",
              "      <td>topup gopay</td>\n",
              "      <td>topup gopay</td>\n",
              "      <td>NaN</td>\n",
              "    </tr>\n",
              "    <tr>\n",
              "      <th>25</th>\n",
              "      <td>es</td>\n",
              "      <td>es</td>\n",
              "      <td>NaN</td>\n",
              "    </tr>\n",
              "    <tr>\n",
              "      <th>34</th>\n",
              "      <td>bultang</td>\n",
              "      <td>bultang</td>\n",
              "      <td>NaN</td>\n",
              "    </tr>\n",
              "    <tr>\n",
              "      <th>42</th>\n",
              "      <td>ovo</td>\n",
              "      <td>ovo</td>\n",
              "      <td>NaN</td>\n",
              "    </tr>\n",
              "    <tr>\n",
              "      <th>59</th>\n",
              "      <td>welkin gi</td>\n",
              "      <td>welkin gi</td>\n",
              "      <td>NaN</td>\n",
              "    </tr>\n",
              "    <tr>\n",
              "      <th>62</th>\n",
              "      <td>topup ovo</td>\n",
              "      <td>topup ovo</td>\n",
              "      <td>NaN</td>\n",
              "    </tr>\n",
              "    <tr>\n",
              "      <th>63</th>\n",
              "      <td>tws</td>\n",
              "      <td>tws</td>\n",
              "      <td>NaN</td>\n",
              "    </tr>\n",
              "    <tr>\n",
              "      <th>64</th>\n",
              "      <td>tas</td>\n",
              "      <td>tas</td>\n",
              "      <td>NaN</td>\n",
              "    </tr>\n",
              "    <tr>\n",
              "      <th>73</th>\n",
              "      <td>koi</td>\n",
              "      <td>koi</td>\n",
              "      <td>NaN</td>\n",
              "    </tr>\n",
              "    <tr>\n",
              "      <th>83</th>\n",
              "      <td>shopee</td>\n",
              "      <td>shopee</td>\n",
              "      <td>NaN</td>\n",
              "    </tr>\n",
              "    <tr>\n",
              "      <th>88</th>\n",
              "      <td>aw rootbeer</td>\n",
              "      <td>aw rootbeer</td>\n",
              "      <td>NaN</td>\n",
              "    </tr>\n",
              "    <tr>\n",
              "      <th>98</th>\n",
              "      <td>oli</td>\n",
              "      <td>oli</td>\n",
              "      <td>NaN</td>\n",
              "    </tr>\n",
              "    <tr>\n",
              "      <th>104</th>\n",
              "      <td>ais</td>\n",
              "      <td>ais</td>\n",
              "      <td>NaN</td>\n",
              "    </tr>\n",
              "    <tr>\n",
              "      <th>109</th>\n",
              "      <td>inau filkom</td>\n",
              "      <td>inau filkom</td>\n",
              "      <td>NaN</td>\n",
              "    </tr>\n",
              "    <tr>\n",
              "      <th>117</th>\n",
              "      <td>topup e toll</td>\n",
              "      <td>topup e toll</td>\n",
              "      <td>NaN</td>\n",
              "    </tr>\n",
              "    <tr>\n",
              "      <th>118</th>\n",
              "      <td>danus</td>\n",
              "      <td>danus</td>\n",
              "      <td>NaN</td>\n",
              "    </tr>\n",
              "    <tr>\n",
              "      <th>136</th>\n",
              "      <td>lapangan bultang</td>\n",
              "      <td>lapangan bultang</td>\n",
              "      <td>NaN</td>\n",
              "    </tr>\n",
              "    <tr>\n",
              "      <th>137</th>\n",
              "      <td>uang kas bcc</td>\n",
              "      <td>uang kas bcc</td>\n",
              "      <td>NaN</td>\n",
              "    </tr>\n",
              "    <tr>\n",
              "      <th>142</th>\n",
              "      <td>casing + antigores</td>\n",
              "      <td>casing + antigores</td>\n",
              "      <td>NaN</td>\n",
              "    </tr>\n",
              "    <tr>\n",
              "      <th>143</th>\n",
              "      <td>kai</td>\n",
              "      <td>kai</td>\n",
              "      <td>NaN</td>\n",
              "    </tr>\n",
              "    <tr>\n",
              "      <th>144</th>\n",
              "      <td>arkavidia</td>\n",
              "      <td>arkavidia</td>\n",
              "      <td>NaN</td>\n",
              "    </tr>\n",
              "  </tbody>\n",
              "</table>\n",
              "</div>\n",
              "      <button class=\"colab-df-convert\" onclick=\"convertToInteractive('df-fbb27c9d-3fe7-40c6-89ab-b21ba40c2b0d')\"\n",
              "              title=\"Convert this dataframe to an interactive table.\"\n",
              "              style=\"display:none;\">\n",
              "        \n",
              "  <svg xmlns=\"http://www.w3.org/2000/svg\" height=\"24px\"viewBox=\"0 0 24 24\"\n",
              "       width=\"24px\">\n",
              "    <path d=\"M0 0h24v24H0V0z\" fill=\"none\"/>\n",
              "    <path d=\"M18.56 5.44l.94 2.06.94-2.06 2.06-.94-2.06-.94-.94-2.06-.94 2.06-2.06.94zm-11 1L8.5 8.5l.94-2.06 2.06-.94-2.06-.94L8.5 2.5l-.94 2.06-2.06.94zm10 10l.94 2.06.94-2.06 2.06-.94-2.06-.94-.94-2.06-.94 2.06-2.06.94z\"/><path d=\"M17.41 7.96l-1.37-1.37c-.4-.4-.92-.59-1.43-.59-.52 0-1.04.2-1.43.59L10.3 9.45l-7.72 7.72c-.78.78-.78 2.05 0 2.83L4 21.41c.39.39.9.59 1.41.59.51 0 1.02-.2 1.41-.59l7.78-7.78 2.81-2.81c.8-.78.8-2.07 0-2.86zM5.41 20L4 18.59l7.72-7.72 1.47 1.35L5.41 20z\"/>\n",
              "  </svg>\n",
              "      </button>\n",
              "      \n",
              "  <style>\n",
              "    .colab-df-container {\n",
              "      display:flex;\n",
              "      flex-wrap:wrap;\n",
              "      gap: 12px;\n",
              "    }\n",
              "\n",
              "    .colab-df-convert {\n",
              "      background-color: #E8F0FE;\n",
              "      border: none;\n",
              "      border-radius: 50%;\n",
              "      cursor: pointer;\n",
              "      display: none;\n",
              "      fill: #1967D2;\n",
              "      height: 32px;\n",
              "      padding: 0 0 0 0;\n",
              "      width: 32px;\n",
              "    }\n",
              "\n",
              "    .colab-df-convert:hover {\n",
              "      background-color: #E2EBFA;\n",
              "      box-shadow: 0px 1px 2px rgba(60, 64, 67, 0.3), 0px 1px 3px 1px rgba(60, 64, 67, 0.15);\n",
              "      fill: #174EA6;\n",
              "    }\n",
              "\n",
              "    [theme=dark] .colab-df-convert {\n",
              "      background-color: #3B4455;\n",
              "      fill: #D2E3FC;\n",
              "    }\n",
              "\n",
              "    [theme=dark] .colab-df-convert:hover {\n",
              "      background-color: #434B5C;\n",
              "      box-shadow: 0px 1px 3px 1px rgba(0, 0, 0, 0.15);\n",
              "      filter: drop-shadow(0px 1px 2px rgba(0, 0, 0, 0.3));\n",
              "      fill: #FFFFFF;\n",
              "    }\n",
              "  </style>\n",
              "\n",
              "      <script>\n",
              "        const buttonEl =\n",
              "          document.querySelector('#df-fbb27c9d-3fe7-40c6-89ab-b21ba40c2b0d button.colab-df-convert');\n",
              "        buttonEl.style.display =\n",
              "          google.colab.kernel.accessAllowed ? 'block' : 'none';\n",
              "\n",
              "        async function convertToInteractive(key) {\n",
              "          const element = document.querySelector('#df-fbb27c9d-3fe7-40c6-89ab-b21ba40c2b0d');\n",
              "          const dataTable =\n",
              "            await google.colab.kernel.invokeFunction('convertToInteractive',\n",
              "                                                     [key], {});\n",
              "          if (!dataTable) return;\n",
              "\n",
              "          const docLinkHtml = 'Like what you see? Visit the ' +\n",
              "            '<a target=\"_blank\" href=https://colab.research.google.com/notebooks/data_table.ipynb>data table notebook</a>'\n",
              "            + ' to learn more about interactive tables.';\n",
              "          element.innerHTML = '';\n",
              "          dataTable['output_type'] = 'display_data';\n",
              "          await google.colab.output.renderOutput(dataTable, element);\n",
              "          const docLink = document.createElement('div');\n",
              "          docLink.innerHTML = docLinkHtml;\n",
              "          element.appendChild(docLink);\n",
              "        }\n",
              "      </script>\n",
              "    </div>\n",
              "  </div>\n",
              "  "
            ],
            "text/plain": [
              "                   Name         translation lang\n",
              "1           topup gopay         topup gopay  NaN\n",
              "25                   es                  es  NaN\n",
              "34              bultang             bultang  NaN\n",
              "42                  ovo                 ovo  NaN\n",
              "59            welkin gi           welkin gi  NaN\n",
              "62            topup ovo           topup ovo  NaN\n",
              "63                  tws                 tws  NaN\n",
              "64                  tas                 tas  NaN\n",
              "73                  koi                 koi  NaN\n",
              "83               shopee              shopee  NaN\n",
              "88          aw rootbeer         aw rootbeer  NaN\n",
              "98                  oli                 oli  NaN\n",
              "104                 ais                 ais  NaN\n",
              "109         inau filkom         inau filkom  NaN\n",
              "117        topup e toll        topup e toll  NaN\n",
              "118               danus               danus  NaN\n",
              "136    lapangan bultang    lapangan bultang  NaN\n",
              "137        uang kas bcc        uang kas bcc  NaN\n",
              "142  casing + antigores  casing + antigores  NaN\n",
              "143                 kai                 kai  NaN\n",
              "144           arkavidia           arkavidia  NaN"
            ]
          },
          "execution_count": 20,
          "metadata": {},
          "output_type": "execute_result"
        }
      ],
      "source": [
        "text_df.loc[text_df['lang']!='en']"
      ]
    },
    {
      "cell_type": "code",
      "execution_count": null,
      "metadata": {
        "id": "5hVxcGQDg0s2"
      },
      "outputs": [],
      "source": [
        "text_df.to_csv('processed.csv')"
      ]
    },
    {
      "cell_type": "code",
      "execution_count": null,
      "metadata": {
        "colab": {
          "base_uri": "https://localhost:8080/"
        },
        "id": "mKsDIJXQnqBl",
        "outputId": "bd0c7e3e-c548-46d2-c420-b8454c0912bb"
      },
      "outputs": [
        {
          "name": "stdout",
          "output_type": "stream",
          "text": [
            "Requirement already satisfied: gensim in /usr/local/lib/python3.7/dist-packages (3.6.0)\n",
            "Collecting gensim\n",
            "  Downloading gensim-4.1.2-cp37-cp37m-manylinux_2_12_x86_64.manylinux2010_x86_64.whl (24.1 MB)\n",
            "\u001b[K     |████████████████████████████████| 24.1 MB 1.5 MB/s \n",
            "\u001b[?25hRequirement already satisfied: numpy>=1.17.0 in /usr/local/lib/python3.7/dist-packages (from gensim) (1.21.5)\n",
            "Requirement already satisfied: scipy>=0.18.1 in /usr/local/lib/python3.7/dist-packages (from gensim) (1.4.1)\n",
            "Requirement already satisfied: smart-open>=1.8.1 in /usr/local/lib/python3.7/dist-packages (from gensim) (5.2.1)\n",
            "Installing collected packages: gensim\n",
            "  Attempting uninstall: gensim\n",
            "    Found existing installation: gensim 3.6.0\n",
            "    Uninstalling gensim-3.6.0:\n",
            "      Successfully uninstalled gensim-3.6.0\n",
            "Successfully installed gensim-4.1.2\n"
          ]
        }
      ],
      "source": [
        "!pip install -U gensim"
      ]
    },
    {
      "cell_type": "code",
      "execution_count": null,
      "metadata": {
        "colab": {
          "base_uri": "https://localhost:8080/"
        },
        "id": "w9jwLEKcyi4a",
        "outputId": "ced6e408-2c8c-494f-ea71-b44979a133c0"
      },
      "outputs": [
        {
          "name": "stdout",
          "output_type": "stream",
          "text": [
            "[==================================================] 100.0% 376.1/376.1MB downloaded\n",
            "[nltk_data] Downloading package stopwords to /root/nltk_data...\n",
            "[nltk_data]   Package stopwords is already up-to-date!\n",
            "[nltk_data] Downloading package punkt to /root/nltk_data...\n",
            "[nltk_data]   Package punkt is already up-to-date!\n"
          ]
        },
        {
          "data": {
            "text/plain": [
              "True"
            ]
          },
          "execution_count": 32,
          "metadata": {},
          "output_type": "execute_result"
        }
      ],
      "source": [
        "import re\n",
        "import string\n",
        "import nltk\n",
        "import numpy as np\n",
        "import pandas as pd\n",
        "\n",
        "from gensim.corpora import Dictionary\n",
        "from gensim.models import TfidfModel\n",
        "from gensim.similarities import WordEmbeddingSimilarityIndex\n",
        "from gensim.similarities import SparseTermSimilarityMatrix\n",
        "from gensim.similarities import SoftCosineSimilarity\n",
        "import gensim.downloader as api\n",
        "glove = api.load('glove-wiki-gigaword-300')\n",
        "\n",
        "from nltk import word_tokenize\n",
        "from nltk.corpus import stopwords\n",
        "\n",
        "from sklearn.cluster import MiniBatchKMeans\n",
        "from sklearn.metrics import silhouette_samples, silhouette_score\n",
        "\n",
        "nltk.download(\"stopwords\")\n",
        "nltk.download('punkt')"
      ]
    },
    {
      "cell_type": "code",
      "execution_count": null,
      "metadata": {
        "colab": {
          "base_uri": "https://localhost:8080/",
          "height": 206
        },
        "id": "a4BVjy-aoa5W",
        "outputId": "a256b671-01dc-41bd-c157-89fd509509d8"
      },
      "outputs": [
        {
          "data": {
            "text/html": [
              "\n",
              "  <div id=\"df-82de4085-6272-4dbd-8737-b7ac4e2bacac\">\n",
              "    <div class=\"colab-df-container\">\n",
              "      <div>\n",
              "<style scoped>\n",
              "    .dataframe tbody tr th:only-of-type {\n",
              "        vertical-align: middle;\n",
              "    }\n",
              "\n",
              "    .dataframe tbody tr th {\n",
              "        vertical-align: top;\n",
              "    }\n",
              "\n",
              "    .dataframe thead th {\n",
              "        text-align: right;\n",
              "    }\n",
              "</style>\n",
              "<table border=\"1\" class=\"dataframe\">\n",
              "  <thead>\n",
              "    <tr style=\"text-align: right;\">\n",
              "      <th></th>\n",
              "      <th>text</th>\n",
              "    </tr>\n",
              "  </thead>\n",
              "  <tbody>\n",
              "    <tr>\n",
              "      <th>0</th>\n",
              "      <td>laundry</td>\n",
              "    </tr>\n",
              "    <tr>\n",
              "      <th>1</th>\n",
              "      <td>food</td>\n",
              "    </tr>\n",
              "    <tr>\n",
              "      <th>2</th>\n",
              "      <td>drinks</td>\n",
              "    </tr>\n",
              "    <tr>\n",
              "      <th>3</th>\n",
              "      <td>snacks</td>\n",
              "    </tr>\n",
              "    <tr>\n",
              "      <th>4</th>\n",
              "      <td>field</td>\n",
              "    </tr>\n",
              "  </tbody>\n",
              "</table>\n",
              "</div>\n",
              "      <button class=\"colab-df-convert\" onclick=\"convertToInteractive('df-82de4085-6272-4dbd-8737-b7ac4e2bacac')\"\n",
              "              title=\"Convert this dataframe to an interactive table.\"\n",
              "              style=\"display:none;\">\n",
              "        \n",
              "  <svg xmlns=\"http://www.w3.org/2000/svg\" height=\"24px\"viewBox=\"0 0 24 24\"\n",
              "       width=\"24px\">\n",
              "    <path d=\"M0 0h24v24H0V0z\" fill=\"none\"/>\n",
              "    <path d=\"M18.56 5.44l.94 2.06.94-2.06 2.06-.94-2.06-.94-.94-2.06-.94 2.06-2.06.94zm-11 1L8.5 8.5l.94-2.06 2.06-.94-2.06-.94L8.5 2.5l-.94 2.06-2.06.94zm10 10l.94 2.06.94-2.06 2.06-.94-2.06-.94-.94-2.06-.94 2.06-2.06.94z\"/><path d=\"M17.41 7.96l-1.37-1.37c-.4-.4-.92-.59-1.43-.59-.52 0-1.04.2-1.43.59L10.3 9.45l-7.72 7.72c-.78.78-.78 2.05 0 2.83L4 21.41c.39.39.9.59 1.41.59.51 0 1.02-.2 1.41-.59l7.78-7.78 2.81-2.81c.8-.78.8-2.07 0-2.86zM5.41 20L4 18.59l7.72-7.72 1.47 1.35L5.41 20z\"/>\n",
              "  </svg>\n",
              "      </button>\n",
              "      \n",
              "  <style>\n",
              "    .colab-df-container {\n",
              "      display:flex;\n",
              "      flex-wrap:wrap;\n",
              "      gap: 12px;\n",
              "    }\n",
              "\n",
              "    .colab-df-convert {\n",
              "      background-color: #E8F0FE;\n",
              "      border: none;\n",
              "      border-radius: 50%;\n",
              "      cursor: pointer;\n",
              "      display: none;\n",
              "      fill: #1967D2;\n",
              "      height: 32px;\n",
              "      padding: 0 0 0 0;\n",
              "      width: 32px;\n",
              "    }\n",
              "\n",
              "    .colab-df-convert:hover {\n",
              "      background-color: #E2EBFA;\n",
              "      box-shadow: 0px 1px 2px rgba(60, 64, 67, 0.3), 0px 1px 3px 1px rgba(60, 64, 67, 0.15);\n",
              "      fill: #174EA6;\n",
              "    }\n",
              "\n",
              "    [theme=dark] .colab-df-convert {\n",
              "      background-color: #3B4455;\n",
              "      fill: #D2E3FC;\n",
              "    }\n",
              "\n",
              "    [theme=dark] .colab-df-convert:hover {\n",
              "      background-color: #434B5C;\n",
              "      box-shadow: 0px 1px 3px 1px rgba(0, 0, 0, 0.15);\n",
              "      filter: drop-shadow(0px 1px 2px rgba(0, 0, 0, 0.3));\n",
              "      fill: #FFFFFF;\n",
              "    }\n",
              "  </style>\n",
              "\n",
              "      <script>\n",
              "        const buttonEl =\n",
              "          document.querySelector('#df-82de4085-6272-4dbd-8737-b7ac4e2bacac button.colab-df-convert');\n",
              "        buttonEl.style.display =\n",
              "          google.colab.kernel.accessAllowed ? 'block' : 'none';\n",
              "\n",
              "        async function convertToInteractive(key) {\n",
              "          const element = document.querySelector('#df-82de4085-6272-4dbd-8737-b7ac4e2bacac');\n",
              "          const dataTable =\n",
              "            await google.colab.kernel.invokeFunction('convertToInteractive',\n",
              "                                                     [key], {});\n",
              "          if (!dataTable) return;\n",
              "\n",
              "          const docLinkHtml = 'Like what you see? Visit the ' +\n",
              "            '<a target=\"_blank\" href=https://colab.research.google.com/notebooks/data_table.ipynb>data table notebook</a>'\n",
              "            + ' to learn more about interactive tables.';\n",
              "          element.innerHTML = '';\n",
              "          dataTable['output_type'] = 'display_data';\n",
              "          await google.colab.output.renderOutput(dataTable, element);\n",
              "          const docLink = document.createElement('div');\n",
              "          docLink.innerHTML = docLinkHtml;\n",
              "          element.appendChild(docLink);\n",
              "        }\n",
              "      </script>\n",
              "    </div>\n",
              "  </div>\n",
              "  "
            ],
            "text/plain": [
              "      text\n",
              "0  laundry\n",
              "1     food\n",
              "2   drinks\n",
              "3   snacks\n",
              "4    field"
            ]
          },
          "execution_count": 33,
          "metadata": {},
          "output_type": "execute_result"
        }
      ],
      "source": [
        "df = pd.read_csv('done_processed.csv')\n",
        "text_df = df['translation'].drop_duplicates().to_frame(name='text')\n",
        "text_df.head()"
      ]
    },
    {
      "cell_type": "code",
      "execution_count": null,
      "metadata": {
        "id": "plVNHSZby21k"
      },
      "outputs": [],
      "source": [
        "def clean_text(text, tokenizer, stopwords):\n",
        "    text = str(text).lower()  # Lowercase words\n",
        "    text = re.sub(r\"\\[(.*?)\\]\", \"\", text)  # Remove [+XYZ chars] in content\n",
        "    text = re.sub(r\"\\s+\", \" \", text)  # Remove multiple spaces in content\n",
        "    text = re.sub(r\"\\w+…|…\", \"\", text)  # Remove ellipsis (and last word)\n",
        "    text = re.sub(r\"(?<=\\w)-(?=\\w)\", \" \", text)  # Replace dash between words\n",
        "    text = re.sub(\n",
        "        f\"[{re.escape(string.punctuation)}]\", \"\", text\n",
        "    )  # Remove punctuation\n",
        "\n",
        "    tokens = tokenizer(text)  # Get tokens from text\n",
        "    tokens = [t for t in tokens if not t in stopwords]  # Remove stopwords\n",
        "    tokens = [\"\" if t.isdigit() else t for t in tokens]  # Remove digits\n",
        "    tokens = [t for t in tokens if len(t) > 1]  # Remove short tokens\n",
        "    return tokens"
      ]
    },
    {
      "cell_type": "code",
      "execution_count": null,
      "metadata": {
        "id": "tcYf7r9oy7yM"
      },
      "outputs": [],
      "source": [
        "text_df['tokens'] = text_df['text'].apply(lambda x: clean_text(x, word_tokenize, stopwords.words('english')))"
      ]
    },
    {
      "cell_type": "code",
      "execution_count": null,
      "metadata": {
        "colab": {
          "base_uri": "https://localhost:8080/",
          "height": 424
        },
        "id": "chtr8GdSguCC",
        "outputId": "962a95ab-37b0-4743-f95d-a5bad88cba04"
      },
      "outputs": [
        {
          "data": {
            "text/html": [
              "\n",
              "  <div id=\"df-2f2c2f8f-1731-4805-a207-f2d5d15c965a\">\n",
              "    <div class=\"colab-df-container\">\n",
              "      <div>\n",
              "<style scoped>\n",
              "    .dataframe tbody tr th:only-of-type {\n",
              "        vertical-align: middle;\n",
              "    }\n",
              "\n",
              "    .dataframe tbody tr th {\n",
              "        vertical-align: top;\n",
              "    }\n",
              "\n",
              "    .dataframe thead th {\n",
              "        text-align: right;\n",
              "    }\n",
              "</style>\n",
              "<table border=\"1\" class=\"dataframe\">\n",
              "  <thead>\n",
              "    <tr style=\"text-align: right;\">\n",
              "      <th></th>\n",
              "      <th>text</th>\n",
              "      <th>tokens</th>\n",
              "    </tr>\n",
              "  </thead>\n",
              "  <tbody>\n",
              "    <tr>\n",
              "      <th>0</th>\n",
              "      <td>laundry</td>\n",
              "      <td>[laundry]</td>\n",
              "    </tr>\n",
              "    <tr>\n",
              "      <th>1</th>\n",
              "      <td>food</td>\n",
              "      <td>[food]</td>\n",
              "    </tr>\n",
              "    <tr>\n",
              "      <th>2</th>\n",
              "      <td>drinks</td>\n",
              "      <td>[drinks]</td>\n",
              "    </tr>\n",
              "    <tr>\n",
              "      <th>3</th>\n",
              "      <td>snacks</td>\n",
              "      <td>[snacks]</td>\n",
              "    </tr>\n",
              "    <tr>\n",
              "      <th>4</th>\n",
              "      <td>field</td>\n",
              "      <td>[field]</td>\n",
              "    </tr>\n",
              "    <tr>\n",
              "      <th>...</th>\n",
              "      <td>...</td>\n",
              "      <td>...</td>\n",
              "    </tr>\n",
              "    <tr>\n",
              "      <th>170</th>\n",
              "      <td>father's phone and 1 year warranty</td>\n",
              "      <td>[fathers, phone, year, warranty]</td>\n",
              "    </tr>\n",
              "    <tr>\n",
              "      <th>171</th>\n",
              "      <td>citrus</td>\n",
              "      <td>[citrus]</td>\n",
              "    </tr>\n",
              "    <tr>\n",
              "      <th>172</th>\n",
              "      <td>stylus pen</td>\n",
              "      <td>[stylus, pen]</td>\n",
              "    </tr>\n",
              "    <tr>\n",
              "      <th>173</th>\n",
              "      <td>member card</td>\n",
              "      <td>[member, card]</td>\n",
              "    </tr>\n",
              "    <tr>\n",
              "      <th>174</th>\n",
              "      <td>ram</td>\n",
              "      <td>[ram]</td>\n",
              "    </tr>\n",
              "  </tbody>\n",
              "</table>\n",
              "<p>163 rows × 2 columns</p>\n",
              "</div>\n",
              "      <button class=\"colab-df-convert\" onclick=\"convertToInteractive('df-2f2c2f8f-1731-4805-a207-f2d5d15c965a')\"\n",
              "              title=\"Convert this dataframe to an interactive table.\"\n",
              "              style=\"display:none;\">\n",
              "        \n",
              "  <svg xmlns=\"http://www.w3.org/2000/svg\" height=\"24px\"viewBox=\"0 0 24 24\"\n",
              "       width=\"24px\">\n",
              "    <path d=\"M0 0h24v24H0V0z\" fill=\"none\"/>\n",
              "    <path d=\"M18.56 5.44l.94 2.06.94-2.06 2.06-.94-2.06-.94-.94-2.06-.94 2.06-2.06.94zm-11 1L8.5 8.5l.94-2.06 2.06-.94-2.06-.94L8.5 2.5l-.94 2.06-2.06.94zm10 10l.94 2.06.94-2.06 2.06-.94-2.06-.94-.94-2.06-.94 2.06-2.06.94z\"/><path d=\"M17.41 7.96l-1.37-1.37c-.4-.4-.92-.59-1.43-.59-.52 0-1.04.2-1.43.59L10.3 9.45l-7.72 7.72c-.78.78-.78 2.05 0 2.83L4 21.41c.39.39.9.59 1.41.59.51 0 1.02-.2 1.41-.59l7.78-7.78 2.81-2.81c.8-.78.8-2.07 0-2.86zM5.41 20L4 18.59l7.72-7.72 1.47 1.35L5.41 20z\"/>\n",
              "  </svg>\n",
              "      </button>\n",
              "      \n",
              "  <style>\n",
              "    .colab-df-container {\n",
              "      display:flex;\n",
              "      flex-wrap:wrap;\n",
              "      gap: 12px;\n",
              "    }\n",
              "\n",
              "    .colab-df-convert {\n",
              "      background-color: #E8F0FE;\n",
              "      border: none;\n",
              "      border-radius: 50%;\n",
              "      cursor: pointer;\n",
              "      display: none;\n",
              "      fill: #1967D2;\n",
              "      height: 32px;\n",
              "      padding: 0 0 0 0;\n",
              "      width: 32px;\n",
              "    }\n",
              "\n",
              "    .colab-df-convert:hover {\n",
              "      background-color: #E2EBFA;\n",
              "      box-shadow: 0px 1px 2px rgba(60, 64, 67, 0.3), 0px 1px 3px 1px rgba(60, 64, 67, 0.15);\n",
              "      fill: #174EA6;\n",
              "    }\n",
              "\n",
              "    [theme=dark] .colab-df-convert {\n",
              "      background-color: #3B4455;\n",
              "      fill: #D2E3FC;\n",
              "    }\n",
              "\n",
              "    [theme=dark] .colab-df-convert:hover {\n",
              "      background-color: #434B5C;\n",
              "      box-shadow: 0px 1px 3px 1px rgba(0, 0, 0, 0.15);\n",
              "      filter: drop-shadow(0px 1px 2px rgba(0, 0, 0, 0.3));\n",
              "      fill: #FFFFFF;\n",
              "    }\n",
              "  </style>\n",
              "\n",
              "      <script>\n",
              "        const buttonEl =\n",
              "          document.querySelector('#df-2f2c2f8f-1731-4805-a207-f2d5d15c965a button.colab-df-convert');\n",
              "        buttonEl.style.display =\n",
              "          google.colab.kernel.accessAllowed ? 'block' : 'none';\n",
              "\n",
              "        async function convertToInteractive(key) {\n",
              "          const element = document.querySelector('#df-2f2c2f8f-1731-4805-a207-f2d5d15c965a');\n",
              "          const dataTable =\n",
              "            await google.colab.kernel.invokeFunction('convertToInteractive',\n",
              "                                                     [key], {});\n",
              "          if (!dataTable) return;\n",
              "\n",
              "          const docLinkHtml = 'Like what you see? Visit the ' +\n",
              "            '<a target=\"_blank\" href=https://colab.research.google.com/notebooks/data_table.ipynb>data table notebook</a>'\n",
              "            + ' to learn more about interactive tables.';\n",
              "          element.innerHTML = '';\n",
              "          dataTable['output_type'] = 'display_data';\n",
              "          await google.colab.output.renderOutput(dataTable, element);\n",
              "          const docLink = document.createElement('div');\n",
              "          docLink.innerHTML = docLinkHtml;\n",
              "          element.appendChild(docLink);\n",
              "        }\n",
              "      </script>\n",
              "    </div>\n",
              "  </div>\n",
              "  "
            ],
            "text/plain": [
              "                                   text                            tokens\n",
              "0                               laundry                         [laundry]\n",
              "1                                  food                            [food]\n",
              "2                                drinks                          [drinks]\n",
              "3                                snacks                          [snacks]\n",
              "4                                 field                           [field]\n",
              "..                                  ...                               ...\n",
              "170  father's phone and 1 year warranty  [fathers, phone, year, warranty]\n",
              "171                              citrus                          [citrus]\n",
              "172                          stylus pen                     [stylus, pen]\n",
              "173                         member card                    [member, card]\n",
              "174                                 ram                             [ram]\n",
              "\n",
              "[163 rows x 2 columns]"
            ]
          },
          "execution_count": 36,
          "metadata": {},
          "output_type": "execute_result"
        }
      ],
      "source": [
        "text_df"
      ]
    },
    {
      "cell_type": "code",
      "execution_count": null,
      "metadata": {
        "colab": {
          "base_uri": "https://localhost:8080/"
        },
        "id": "L-7sTWWYhqIe",
        "outputId": "cf82058e-0898-4953-f909-4360964d5137"
      },
      "outputs": [
        {
          "data": {
            "text/plain": [
              "(163, 300)"
            ]
          },
          "execution_count": 39,
          "metadata": {},
          "output_type": "execute_result"
        }
      ],
      "source": [
        "def vectorize(list_of_docs, model):\n",
        "    \"\"\"Generate vectors for list of documents using a Word Embedding\n",
        "\n",
        "    Args:\n",
        "        list_of_docs: List of documents\n",
        "        model: Gensim's Word Embedding\n",
        "\n",
        "    Returns:\n",
        "        List of document vectors\n",
        "    \"\"\"\n",
        "    features = []\n",
        "\n",
        "    for tokens in list_of_docs:\n",
        "        zero_vector = np.zeros(model.vector_size)\n",
        "        vectors = []\n",
        "        for token in tokens:\n",
        "            if token in model:\n",
        "                try:\n",
        "                    vectors.append(model[token])\n",
        "                except KeyError:\n",
        "                    continue\n",
        "        if vectors:\n",
        "            vectors = np.asarray(vectors)\n",
        "            avg_vec = vectors.mean(axis=0)\n",
        "            features.append(avg_vec)\n",
        "        else:\n",
        "            features.append(zero_vector)\n",
        "    return features\n",
        "    \n",
        "vectorized_docs = vectorize(text_df['tokens'], model=glove)\n",
        "len(vectorized_docs), len(vectorized_docs[0])"
      ]
    },
    {
      "cell_type": "code",
      "execution_count": null,
      "metadata": {
        "id": "l59rtw0mjIMz"
      },
      "outputs": [],
      "source": [
        "def mbkmeans_clusters(\n",
        "\tX, \n",
        "    k, \n",
        "    mb, \n",
        "    print_silhouette_values, \n",
        "):\n",
        "    \"\"\"Generate clusters and print Silhouette metrics using MBKmeans\n",
        "\n",
        "    Args:\n",
        "        X: Matrix of features.\n",
        "        k: Number of clusters.\n",
        "        mb: Size of mini-batches.\n",
        "        print_silhouette_values: Print silhouette values per cluster.\n",
        "\n",
        "    Returns:\n",
        "        Trained clustering model and labels based on X.\n",
        "    \"\"\"\n",
        "    km = MiniBatchKMeans(n_clusters=k, batch_size=mb).fit(X)\n",
        "    print(f\"For n_clusters = {k}\")\n",
        "    print(f\"Silhouette coefficient: {silhouette_score(X, km.labels_):0.2f}\")\n",
        "    print(f\"Inertia:{km.inertia_}\")\n",
        "\n",
        "    if print_silhouette_values:\n",
        "        sample_silhouette_values = silhouette_samples(X, km.labels_)\n",
        "        print(f\"Silhouette values:\")\n",
        "        silhouette_values = []\n",
        "        for i in range(k):\n",
        "            cluster_silhouette_values = sample_silhouette_values[km.labels_ == i]\n",
        "            silhouette_values.append(\n",
        "                (\n",
        "                    i,\n",
        "                    cluster_silhouette_values.shape[0],\n",
        "                    cluster_silhouette_values.mean(),\n",
        "                    cluster_silhouette_values.min(),\n",
        "                    cluster_silhouette_values.max(),\n",
        "                )\n",
        "            )\n",
        "        silhouette_values = sorted(\n",
        "            silhouette_values, key=lambda tup: tup[2], reverse=True\n",
        "        )\n",
        "        for s in silhouette_values:\n",
        "            print(\n",
        "                f\"    Cluster {s[0]}: Size:{s[1]} | Avg:{s[2]:.2f} | Min:{s[3]:.2f} | Max: {s[4]:.2f}\"\n",
        "            )\n",
        "    return km, km.labels_"
      ]
    },
    {
      "cell_type": "code",
      "execution_count": null,
      "metadata": {
        "colab": {
          "base_uri": "https://localhost:8080/"
        },
        "id": "i-pzQgZpjRz5",
        "outputId": "7958bf5d-40fd-4b08-94a0-cac091d67bcd"
      },
      "outputs": [
        {
          "name": "stdout",
          "output_type": "stream",
          "text": [
            "For n_clusters = 10\n",
            "Silhouette coefficient: 0.04\n",
            "Inertia:4121.769238978317\n",
            "Silhouette values:\n",
            "    Cluster 9: Size:2 | Avg:1.00 | Min:1.00 | Max: 1.00\n",
            "    Cluster 0: Size:3 | Avg:0.39 | Min:0.15 | Max: 0.50\n",
            "    Cluster 3: Size:5 | Avg:0.26 | Min:0.10 | Max: 0.38\n",
            "    Cluster 4: Size:10 | Avg:0.13 | Min:0.05 | Max: 0.22\n",
            "    Cluster 7: Size:5 | Avg:0.10 | Min:-0.06 | Max: 0.25\n",
            "    Cluster 6: Size:20 | Avg:0.10 | Min:-0.02 | Max: 0.21\n",
            "    Cluster 1: Size:4 | Avg:0.05 | Min:-0.01 | Max: 0.11\n",
            "    Cluster 5: Size:1 | Avg:0.00 | Min:0.00 | Max: 0.00\n",
            "    Cluster 2: Size:104 | Avg:-0.02 | Min:-0.13 | Max: 0.07\n",
            "    Cluster 8: Size:9 | Avg:-0.06 | Min:-0.25 | Max: 0.07\n"
          ]
        }
      ],
      "source": [
        "clustering, cluster_labels = mbkmeans_clusters(\n",
        "\tX=vectorized_docs,\n",
        "    k=10,\n",
        "    mb=100,\n",
        "    print_silhouette_values=True,\n",
        ")\n",
        "text_df['cluster'] = cluster_labels"
      ]
    },
    {
      "cell_type": "code",
      "execution_count": null,
      "metadata": {
        "colab": {
          "base_uri": "https://localhost:8080/",
          "height": 363
        },
        "id": "HeL8Cvo0jt1P",
        "outputId": "9d5281e8-32f3-4026-b6a1-c47cc54977d1"
      },
      "outputs": [
        {
          "data": {
            "text/html": [
              "\n",
              "  <div id=\"df-4fe6cb1d-0acb-4d94-84d0-cd6e629ed4a6\">\n",
              "    <div class=\"colab-df-container\">\n",
              "      <div>\n",
              "<style scoped>\n",
              "    .dataframe tbody tr th:only-of-type {\n",
              "        vertical-align: middle;\n",
              "    }\n",
              "\n",
              "    .dataframe tbody tr th {\n",
              "        vertical-align: top;\n",
              "    }\n",
              "\n",
              "    .dataframe thead th {\n",
              "        text-align: right;\n",
              "    }\n",
              "</style>\n",
              "<table border=\"1\" class=\"dataframe\">\n",
              "  <thead>\n",
              "    <tr style=\"text-align: right;\">\n",
              "      <th></th>\n",
              "      <th>text</th>\n",
              "      <th>tokens</th>\n",
              "      <th>cluster</th>\n",
              "    </tr>\n",
              "  </thead>\n",
              "  <tbody>\n",
              "    <tr>\n",
              "      <th>157</th>\n",
              "      <td>tools hardware</td>\n",
              "      <td>[tools, hardware]</td>\n",
              "      <td>0</td>\n",
              "    </tr>\n",
              "    <tr>\n",
              "      <th>57</th>\n",
              "      <td>bag</td>\n",
              "      <td>[bag]</td>\n",
              "      <td>1</td>\n",
              "    </tr>\n",
              "    <tr>\n",
              "      <th>22</th>\n",
              "      <td>if else punishment</td>\n",
              "      <td>[else, punishment]</td>\n",
              "      <td>2</td>\n",
              "    </tr>\n",
              "    <tr>\n",
              "      <th>159</th>\n",
              "      <td>eggs</td>\n",
              "      <td>[eggs]</td>\n",
              "      <td>3</td>\n",
              "    </tr>\n",
              "    <tr>\n",
              "      <th>96</th>\n",
              "      <td>transport museum ticket</td>\n",
              "      <td>[transport, museum, ticket]</td>\n",
              "      <td>4</td>\n",
              "    </tr>\n",
              "    <tr>\n",
              "      <th>118</th>\n",
              "      <td>pants</td>\n",
              "      <td>[pants]</td>\n",
              "      <td>5</td>\n",
              "    </tr>\n",
              "    <tr>\n",
              "      <th>13</th>\n",
              "      <td>drink</td>\n",
              "      <td>[drink]</td>\n",
              "      <td>6</td>\n",
              "    </tr>\n",
              "    <tr>\n",
              "      <th>101</th>\n",
              "      <td>competition</td>\n",
              "      <td>[competition]</td>\n",
              "      <td>7</td>\n",
              "    </tr>\n",
              "    <tr>\n",
              "      <th>140</th>\n",
              "      <td>roxy sandals</td>\n",
              "      <td>[roxy, sandals]</td>\n",
              "      <td>8</td>\n",
              "    </tr>\n",
              "    <tr>\n",
              "      <th>4</th>\n",
              "      <td>field</td>\n",
              "      <td>[field]</td>\n",
              "      <td>9</td>\n",
              "    </tr>\n",
              "  </tbody>\n",
              "</table>\n",
              "</div>\n",
              "      <button class=\"colab-df-convert\" onclick=\"convertToInteractive('df-4fe6cb1d-0acb-4d94-84d0-cd6e629ed4a6')\"\n",
              "              title=\"Convert this dataframe to an interactive table.\"\n",
              "              style=\"display:none;\">\n",
              "        \n",
              "  <svg xmlns=\"http://www.w3.org/2000/svg\" height=\"24px\"viewBox=\"0 0 24 24\"\n",
              "       width=\"24px\">\n",
              "    <path d=\"M0 0h24v24H0V0z\" fill=\"none\"/>\n",
              "    <path d=\"M18.56 5.44l.94 2.06.94-2.06 2.06-.94-2.06-.94-.94-2.06-.94 2.06-2.06.94zm-11 1L8.5 8.5l.94-2.06 2.06-.94-2.06-.94L8.5 2.5l-.94 2.06-2.06.94zm10 10l.94 2.06.94-2.06 2.06-.94-2.06-.94-.94-2.06-.94 2.06-2.06.94z\"/><path d=\"M17.41 7.96l-1.37-1.37c-.4-.4-.92-.59-1.43-.59-.52 0-1.04.2-1.43.59L10.3 9.45l-7.72 7.72c-.78.78-.78 2.05 0 2.83L4 21.41c.39.39.9.59 1.41.59.51 0 1.02-.2 1.41-.59l7.78-7.78 2.81-2.81c.8-.78.8-2.07 0-2.86zM5.41 20L4 18.59l7.72-7.72 1.47 1.35L5.41 20z\"/>\n",
              "  </svg>\n",
              "      </button>\n",
              "      \n",
              "  <style>\n",
              "    .colab-df-container {\n",
              "      display:flex;\n",
              "      flex-wrap:wrap;\n",
              "      gap: 12px;\n",
              "    }\n",
              "\n",
              "    .colab-df-convert {\n",
              "      background-color: #E8F0FE;\n",
              "      border: none;\n",
              "      border-radius: 50%;\n",
              "      cursor: pointer;\n",
              "      display: none;\n",
              "      fill: #1967D2;\n",
              "      height: 32px;\n",
              "      padding: 0 0 0 0;\n",
              "      width: 32px;\n",
              "    }\n",
              "\n",
              "    .colab-df-convert:hover {\n",
              "      background-color: #E2EBFA;\n",
              "      box-shadow: 0px 1px 2px rgba(60, 64, 67, 0.3), 0px 1px 3px 1px rgba(60, 64, 67, 0.15);\n",
              "      fill: #174EA6;\n",
              "    }\n",
              "\n",
              "    [theme=dark] .colab-df-convert {\n",
              "      background-color: #3B4455;\n",
              "      fill: #D2E3FC;\n",
              "    }\n",
              "\n",
              "    [theme=dark] .colab-df-convert:hover {\n",
              "      background-color: #434B5C;\n",
              "      box-shadow: 0px 1px 3px 1px rgba(0, 0, 0, 0.15);\n",
              "      filter: drop-shadow(0px 1px 2px rgba(0, 0, 0, 0.3));\n",
              "      fill: #FFFFFF;\n",
              "    }\n",
              "  </style>\n",
              "\n",
              "      <script>\n",
              "        const buttonEl =\n",
              "          document.querySelector('#df-4fe6cb1d-0acb-4d94-84d0-cd6e629ed4a6 button.colab-df-convert');\n",
              "        buttonEl.style.display =\n",
              "          google.colab.kernel.accessAllowed ? 'block' : 'none';\n",
              "\n",
              "        async function convertToInteractive(key) {\n",
              "          const element = document.querySelector('#df-4fe6cb1d-0acb-4d94-84d0-cd6e629ed4a6');\n",
              "          const dataTable =\n",
              "            await google.colab.kernel.invokeFunction('convertToInteractive',\n",
              "                                                     [key], {});\n",
              "          if (!dataTable) return;\n",
              "\n",
              "          const docLinkHtml = 'Like what you see? Visit the ' +\n",
              "            '<a target=\"_blank\" href=https://colab.research.google.com/notebooks/data_table.ipynb>data table notebook</a>'\n",
              "            + ' to learn more about interactive tables.';\n",
              "          element.innerHTML = '';\n",
              "          dataTable['output_type'] = 'display_data';\n",
              "          await google.colab.output.renderOutput(dataTable, element);\n",
              "          const docLink = document.createElement('div');\n",
              "          docLink.innerHTML = docLinkHtml;\n",
              "          element.appendChild(docLink);\n",
              "        }\n",
              "      </script>\n",
              "    </div>\n",
              "  </div>\n",
              "  "
            ],
            "text/plain": [
              "                        text                       tokens  cluster\n",
              "157           tools hardware            [tools, hardware]        0\n",
              "57                       bag                        [bag]        1\n",
              "22        if else punishment           [else, punishment]        2\n",
              "159                     eggs                       [eggs]        3\n",
              "96   transport museum ticket  [transport, museum, ticket]        4\n",
              "118                    pants                      [pants]        5\n",
              "13                     drink                      [drink]        6\n",
              "101              competition                [competition]        7\n",
              "140             roxy sandals              [roxy, sandals]        8\n",
              "4                      field                      [field]        9"
            ]
          },
          "execution_count": 43,
          "metadata": {},
          "output_type": "execute_result"
        }
      ],
      "source": [
        "text_df.groupby('cluster').sample(1)"
      ]
    },
    {
      "cell_type": "code",
      "execution_count": null,
      "metadata": {
        "id": "b_Oe4DhJoZN0"
      },
      "outputs": [],
      "source": [
        "category = ['Food and Beverages', 'Travel', 'Utilities','Healthcare','Savings & Debt', \n",
        "            'Entertainment','Lifestyle', 'Miscellaneous', 'Gadget']\n",
        "category_tokens = [clean_text(x, word_tokenize, stopwords.words('english')) for x in category]"
      ]
    },
    {
      "cell_type": "code",
      "execution_count": null,
      "metadata": {
        "colab": {
          "base_uri": "https://localhost:8080/"
        },
        "id": "X95DHv_6svQP",
        "outputId": "9f9f6088-2fec-49d0-d986-be6ed6b93ccf"
      },
      "outputs": [
        {
          "data": {
            "text/plain": [
              "[['food', 'beverages'],\n",
              " ['travel'],\n",
              " ['utilities'],\n",
              " ['healthcare'],\n",
              " ['savings', 'debt'],\n",
              " ['entertainment'],\n",
              " ['lifestyle'],\n",
              " ['miscellaneous'],\n",
              " ['gadget']]"
            ]
          },
          "execution_count": 45,
          "metadata": {},
          "output_type": "execute_result"
        }
      ],
      "source": [
        "category_tokens"
      ]
    },
    {
      "cell_type": "code",
      "execution_count": null,
      "metadata": {
        "colab": {
          "base_uri": "https://localhost:8080/"
        },
        "id": "2ehpPw6xg-iq",
        "outputId": "eea804a6-172d-46bf-b326-449d91e0df7f"
      },
      "outputs": [
        {
          "name": "stderr",
          "output_type": "stream",
          "text": [
            "100%|██████████| 228/228 [00:14<00:00, 16.14it/s]\n"
          ]
        }
      ],
      "source": [
        "similarity_index = WordEmbeddingSimilarityIndex(glove)\n",
        "\n",
        "# Build the term dictionary, TF-idf model\n",
        "dictionary = Dictionary(text_df['tokens'].tolist()+category_tokens)\n",
        "tfidf = TfidfModel(dictionary=dictionary)\n",
        "\n",
        "# Create the term similarity matrix.  \n",
        "similarity_matrix = SparseTermSimilarityMatrix(similarity_index, dictionary, tfidf)"
      ]
    },
    {
      "cell_type": "code",
      "execution_count": null,
      "metadata": {
        "colab": {
          "base_uri": "https://localhost:8080/"
        },
        "id": "KSzt2pC6r3JA",
        "outputId": "4599d70e-8c3a-44b4-a4e2-923ab758e000"
      },
      "outputs": [
        {
          "data": {
            "text/plain": [
              "[[(1, 0.5461163024151554), (220, 0.8377093674039932)],\n",
              " [(68, 1.0)],\n",
              " [(221, 1.0)],\n",
              " [(222, 1.0)],\n",
              " [(101, 0.5899725725570921), (223, 0.8074232865296659)],\n",
              " [(224, 1.0)],\n",
              " [(225, 1.0)],\n",
              " [(226, 1.0)],\n",
              " [(227, 1.0)]]"
            ]
          },
          "execution_count": 48,
          "metadata": {},
          "output_type": "execute_result"
        }
      ],
      "source": [
        "[tfidf[dictionary.doc2bow(x)] for x in category_tokens]"
      ]
    },
    {
      "cell_type": "code",
      "execution_count": null,
      "metadata": {
        "colab": {
          "base_uri": "https://localhost:8080/",
          "height": 169
        },
        "id": "tFmXZZwBvKzw",
        "outputId": "b58279cc-6759-46ed-a5e1-d19e57cfe95b"
      },
      "outputs": [
        {
          "ename": "NameError",
          "evalue": "ignored",
          "output_type": "error",
          "traceback": [
            "\u001b[0;31m---------------------------------------------------------------------------\u001b[0m",
            "\u001b[0;31mNameError\u001b[0m                                 Traceback (most recent call last)",
            "\u001b[0;32m<ipython-input-49-af0fc92fe8b9>\u001b[0m in \u001b[0;36m<module>\u001b[0;34m()\u001b[0m\n\u001b[0;32m----> 1\u001b[0;31m \u001b[0mpd\u001b[0m\u001b[0;34m.\u001b[0m\u001b[0mDataFrame\u001b[0m\u001b[0;34m(\u001b[0m\u001b[0mdoc_similarity_scores\u001b[0m\u001b[0;34m,\u001b[0m \u001b[0mindex\u001b[0m\u001b[0;34m=\u001b[0m\u001b[0mtext_df\u001b[0m\u001b[0;34m[\u001b[0m\u001b[0;34m'text'\u001b[0m\u001b[0;34m]\u001b[0m\u001b[0;34m,\u001b[0m \u001b[0mcolumns\u001b[0m\u001b[0;34m=\u001b[0m\u001b[0mcategory\u001b[0m\u001b[0;34m)\u001b[0m\u001b[0;34m\u001b[0m\u001b[0;34m\u001b[0m\u001b[0m\n\u001b[0m",
            "\u001b[0;31mNameError\u001b[0m: name 'doc_similarity_scores' is not defined"
          ]
        }
      ],
      "source": [
        "pd.DataFrame(doc_similarity_scores, index=text_df['text'], columns=category)"
      ]
    },
    {
      "cell_type": "code",
      "execution_count": null,
      "metadata": {
        "colab": {
          "base_uri": "https://localhost:8080/",
          "height": 205
        },
        "id": "nHIxH025mlnI",
        "outputId": "d12ce58e-d8bd-4f82-b84b-943a705292ce"
      },
      "outputs": [
        {
          "ename": "TypeError",
          "evalue": "ignored",
          "output_type": "error",
          "traceback": [
            "\u001b[0;31m---------------------------------------------------------------------------\u001b[0m",
            "\u001b[0;31mTypeError\u001b[0m                                 Traceback (most recent call last)",
            "\u001b[0;32m<ipython-input-50-a18ca50e32c4>\u001b[0m in \u001b[0;36m<module>\u001b[0;34m()\u001b[0m\n\u001b[1;32m     11\u001b[0m \u001b[0mdocs\u001b[0m \u001b[0;34m=\u001b[0m \u001b[0mtext_df\u001b[0m\u001b[0;34m[\u001b[0m\u001b[0;34m'text'\u001b[0m\u001b[0;34m]\u001b[0m\u001b[0;34m.\u001b[0m\u001b[0mtolist\u001b[0m\u001b[0;34m(\u001b[0m\u001b[0;34m)\u001b[0m\u001b[0;34m\u001b[0m\u001b[0;34m\u001b[0m\u001b[0m\n\u001b[1;32m     12\u001b[0m \u001b[0;32mfor\u001b[0m \u001b[0midx\u001b[0m \u001b[0;32min\u001b[0m \u001b[0msorted_indexes\u001b[0m\u001b[0;34m:\u001b[0m\u001b[0;34m\u001b[0m\u001b[0;34m\u001b[0m\u001b[0m\n\u001b[0;32m---> 13\u001b[0;31m     \u001b[0mprint\u001b[0m\u001b[0;34m(\u001b[0m\u001b[0;34mf'{idx} \\t {doc_similarity_scores[idx]:0.3f} \\t {docs[idx]}'\u001b[0m\u001b[0;34m)\u001b[0m\u001b[0;34m\u001b[0m\u001b[0;34m\u001b[0m\u001b[0m\n\u001b[0m",
            "\u001b[0;31mTypeError\u001b[0m: unsupported format string passed to numpy.ndarray.__format__"
          ]
        }
      ],
      "source": [
        "query_tf = [tfidf[dictionary.doc2bow(x)] for x in text_df['tokens'].tolist()]\n",
        "\n",
        "index = SoftCosineSimilarity(\n",
        "            tfidf[[dictionary.doc2bow(document) for document in category_tokens]],\n",
        "            similarity_matrix)\n",
        "\n",
        "doc_similarity_scores = index[query_tf]\n",
        "\n",
        "# Output the sorted similarity scores and documents\n",
        "sorted_indexes = np.argsort(doc_similarity_scores)[::-1]\n",
        "docs = text_df['text'].tolist()\n",
        "for idx in sorted_indexes:\n",
        "    print(f'{idx} \\t {doc_similarity_scores[idx]:0.3f} \\t {docs[idx]}')"
      ]
    },
    {
      "cell_type": "markdown",
      "metadata": {
        "id": "LRrw9IyvpwVi"
      },
      "source": [
        "# Visualize Data"
      ]
    },
    {
      "cell_type": "code",
      "execution_count": null,
      "metadata": {
        "id": "fAXDhxAIpyoZ"
      },
      "outputs": [],
      "source": [
        "!pip install streamlit\n",
        "!pip install pyngrok==4.1.1\n",
        "!pip install millify"
      ]
    },
    {
      "cell_type": "code",
      "execution_count": null,
      "metadata": {
        "id": "Pb8jRvoKp86h"
      },
      "outputs": [],
      "source": [
        "from pyngrok import ngrok"
      ]
    },
    {
      "cell_type": "code",
      "execution_count": null,
      "metadata": {
        "colab": {
          "base_uri": "https://localhost:8080/"
        },
        "id": "FJOjz9FYwIm_",
        "outputId": "9d825598-5e8a-44b1-8411-754c4abdee90"
      },
      "outputs": [
        {
          "name": "stdout",
          "output_type": "stream",
          "text": [
            "Authtoken saved to configuration file: /root/.ngrok2/ngrok.yml\n"
          ]
        }
      ],
      "source": [
        "!ngrok authtoken auth_token"
      ]
    },
    {
      "cell_type": "code",
      "execution_count": null,
      "metadata": {
        "id": "gW-jB1c9SgD5"
      },
      "outputs": [],
      "source": [
        "money_df['Date'] = pd.to_datetime(money_df['Date'],format='%Y-%m-%dT%H:%M:%S.%f%z')"
      ]
    },
    {
      "cell_type": "code",
      "execution_count": null,
      "metadata": {
        "colab": {
          "base_uri": "https://localhost:8080/"
        },
        "id": "4GcTXVruYVrN",
        "outputId": "d082eddf-448d-4a16-fb40-f54061691ce9"
      },
      "outputs": [
        {
          "data": {
            "text/plain": [
              "Timestamp('2022-02-28 09:07:21.705745')"
            ]
          },
          "execution_count": 57,
          "metadata": {},
          "output_type": "execute_result"
        }
      ],
      "source": [
        "curr = pd.Timestamp.now()\n",
        "last_month = curr.replace(day=1) - pd.Timedelta(days=1)\n",
        "money_df.loc[money_df['Date'].dt.to_period(freq='M')== curr.to_period(freq='M') ].reset_index()"
      ]
    },
    {
      "cell_type": "code",
      "execution_count": null,
      "metadata": {
        "id": "b8MzXnGZIiwh"
      },
      "outputs": [],
      "source": [
        "from millify import millify\n",
        "import plotly.express as px\n",
        "import plotly.graph_objects as go\n",
        "\n",
        "curr = pd.Timestamp.now()\n",
        "last_month = curr.replace(day=1) - pd.Timedelta(days=1)\n",
        "df = money_df.loc[money_df['Date'].dt.to_period(freq='M')== curr.to_period(freq='M') ].reset_index()\n",
        "last_month_df =  money_df.loc[money_df['Date'].dt.to_period(freq='M')== last_month.to_period(freq='M') ].reset_index()\n",
        "\n",
        "fig = px.line(df.groupby(pd.Grouper(key='Date',freq='W'))['price'].sum().reset_index(), \n",
        "\t\t\t\t\t\t\t\tx=\"Date\", y=\"price\", \n",
        "\t\t\t\t\t\t\t\tlabels={'price':'Total Spendings'})\n",
        "fig.add_scatter(x=last_month_df['Date'], y=last_month_df['price'], mode='lines', hoverinfo=\"text\")\n",
        "fig.show()"
      ]
    },
    {
      "cell_type": "code",
      "execution_count": null,
      "metadata": {
        "colab": {
          "base_uri": "https://localhost:8080/"
        },
        "id": "AHOXOac-xl_x",
        "outputId": "8fdbd5d6-d193-4862-f552-d736dd3c8536"
      },
      "outputs": [
        {
          "name": "stdout",
          "output_type": "stream",
          "text": [
            "Overwriting app.py\n"
          ]
        }
      ],
      "source": [
        "%%writefile app.py\n",
        "from millify import millify\n",
        "import plotly.express as px\n",
        "import plotly.graph_objects as go\n",
        "import streamlit as st\n",
        "import pandas as pd\n",
        "import numpy as np\n",
        "import requests\n",
        "PAGE_CONFIG = {\"page_title\":\"Spendings Report\",\"page_icon\":\":dollar:\",\"layout\":\"centered\"}\n",
        "st.set_page_config(**PAGE_CONFIG)\n",
        "\n",
        "def getdata():\n",
        "\tDATABASE_ID = database_id\n",
        "\tNOTION_URL = notion_url\n",
        "\tclass NotionSync:\n",
        "\t\t\tdef __init__(self):\n",
        "\t\t\t\t\tpass    \n",
        "\t\t\tdef query_databases(self,integration_token=secret_token,notion_version=notion_vers):\n",
        "\t\t\t\t\tdatabase_url = NOTION_URL + DATABASE_ID + \"/query\"\n",
        "\t\t\t\t\tresponse = requests.post(database_url, headers={\"Authorization\": f\"{integration_token}\",\"Notion-Version\":f\"{notion_version}\"})\n",
        "\t\t\t\t\tif response.status_code != 200:\n",
        "\t\t\t\t\t\t\traise Exception(f'Response Status: {response.status_code} {response.text}')\n",
        "\t\t\t\t\telse:\n",
        "\t\t\t\t\t\t\tdata = [response.json()]\n",
        "\t\t\t\t\t\t\twhile response.json()['has_more']:\n",
        "\t\t\t\t\t\t\t\tcur = response.json()['next_cursor']\n",
        "\t\t\t\t\t\t\t\tresponse = requests.post(database_url, json={'start_cursor':cur}, headers={\"Authorization\": f\"{integration_token}\",\"Notion-Version\":f\"{notion_version}\"})\n",
        "\t\t\t\t\t\t\t\t# print(response.json())\n",
        "\t\t\t\t\t\t\t\tdata.append(response.json())\n",
        "\t\t\t\t\t\t\treturn data\n",
        "\t\t\tdef get_projects_titles(self,data_json):\n",
        "\t\t\t\t\treturn list(data_json[\"results\"][0][\"properties\"].keys())\n",
        "\t\t\tdef get_projects_data(self,data_json,projects):\n",
        "\t\t\t\t\tdata = []\n",
        "\t\t\t\t\tfor i in data_json:\n",
        "\t\t\t\t\t\tres = i[\"results\"]\n",
        "\t\t\t\t\t\tfor val in res:\n",
        "\t\t\t\t\t\t\trow = []\n",
        "\t\t\t\t\t\t\tel = val['properties']\n",
        "\t\t\t\t\t\t\tfor p in projects:\n",
        "\t\t\t\t\t\t\t\ttipe = el[p]['type']\n",
        "\t\t\t\t\t\t\t\t# print(tipe)\n",
        "\t\t\t\t\t\t\t\t# pprint.PrettyPrinter(indent=4).pprint(el[p][tipe])\n",
        "\t\t\t\t\t\t\t\tif tipe == 'formula':\n",
        "\t\t\t\t\t\t\t\t\tkey = el[p][tipe]['type']\n",
        "\t\t\t\t\t\t\t\t\tif key == 'date':\n",
        "\t\t\t\t\t\t\t\t\t\trow.append(el[p][tipe][key]['start'])\n",
        "\t\t\t\t\t\t\t\t\telse:\n",
        "\t\t\t\t\t\t\t\t\t\trow.append(el[p][tipe][key])\n",
        "\t\t\t\t\t\t\t\telif tipe =='title':\n",
        "\t\t\t\t\t\t\t\t\trow.append(el[p][tipe][0]['plain_text'])\n",
        "\t\t\t\t\t\t\t\telif tipe =='select':\n",
        "\t\t\t\t\t\t\t\t\t# print(el[p][tipe])\n",
        "\t\t\t\t\t\t\t\t\trow.append(el[p][tipe]['name'])\n",
        "\t\t\t\t\t\t\t\telif tipe == 'rich_text':\n",
        "\t\t\t\t\t\t\t\t\t# print(el[p][tipe])\n",
        "\t\t\t\t\t\t\t\t\trow.append(el[p][tipe][0]['text']['content'])\n",
        "\t\t\t\t\t\t\t\telse:\n",
        "\t\t\t\t\t\t\t\t\trow.append(el[p][tipe])\n",
        "\t\t\t\t\t\t\tdata.append(row)\n",
        "\t\t\t\t\treturn data\n",
        "\tnsync = NotionSync()\n",
        "\tdata = nsync.query_databases()\n",
        "\tprojects = nsync.get_projects_titles(data[0])\n",
        "\tdata = nsync.get_projects_data(data,projects)\n",
        "\tmoney_df = pd.DataFrame(data, columns = projects)\n",
        "\treturn money_df\n",
        "\n",
        "def main():\n",
        "\tmoney_df = getdata()\n",
        "\tmoney_df['Date'] = pd.to_datetime(money_df['Date'],format='%Y-%m-%dT%H:%M:%S.%f%z')\n",
        "\tst.title(\"My Spendings Report\")\n",
        "\tmenu = [\"Monthly Spendings\",\"All Time Spendings\"]\n",
        "\tchoice = st.selectbox('Menu',menu)\n",
        " \t\n",
        "\t#All time report\n",
        "\tif choice == menu[1]:\n",
        "\t\tst.header(\"All Time Spendings\")\n",
        "\t\tmost_spend_cat = money_df[money_df['method']=='cash'].groupby('Category').sum().sort_values('price',ascending=False).iloc[0]\n",
        "\n",
        "\t\tst.subheader('Metrics')\n",
        "\t\tcol1 = st.columns(2)\n",
        "\t\tcol1[0].metric(label='Total Spendings',\n",
        "\t\t\t\t\t\t\tvalue=millify(money_df[money_df['method']=='cash']['price'].sum(), precision=2))\n",
        "\t\tcol1[1].metric(label='Highest Spending Category',\n",
        "\t\t\t\t\t\t\tvalue=most_spend_cat.name.capitalize(),\n",
        "\t\t\t\t\t\t\tdelta=millify(most_spend_cat.price, precision=2),\n",
        "\t\t\t\t\t\t\tdelta_color='off')\n",
        "\n",
        "\t\tst.subheader('Spendings per Category')\n",
        "\t\tfig = px.bar(money_df[money_df['method']=='cash'].groupby('Category')['price'].sum().reset_index(),\n",
        "\t\t\t\t\t\t\t\tx='Category',y='price',text_auto=True,\n",
        "\t\t\t\t\t\t\t\tlabels={'price':'Total Spendings'})\n",
        "\t\tfig.update_layout(xaxis={'categoryorder':'total ascending'})\n",
        "\t\tst.plotly_chart(fig, use_container_width=True)\n",
        "\n",
        "\t\tst.subheader('Spendings per Method')\n",
        "\t\tfig = px.bar(money_df.groupby('method')['price'].sum().reset_index(),\n",
        "\t\t\t\t\t\t\t\tx='method',y='price',text_auto=True,\n",
        "\t\t\t\t\t\t\t\tlabels={'price':'Total Spendings'})\n",
        "\t\tfig.update_layout(xaxis={'categoryorder':'total ascending'})\n",
        "\t\tst.plotly_chart(fig, use_container_width=True)\n",
        "\n",
        "\t\tst.subheader('Spending Trends')\n",
        "\t\tfig = px.line(money_df[money_df['method']=='cash'].groupby(pd.Grouper(key='Date',freq='M'))['price'].sum().reset_index(), \n",
        "\t\t\t\t\t\t\t\tx=\"Date\", y=\"price\", \n",
        "\t\t\t\t\t\t\t\tlabels={'price':'Total Spendings'})\n",
        "\t\tst.plotly_chart(fig, use_container_width=True)\n",
        "\t#Monthly Report\n",
        "\telif choice == menu[0]:\n",
        "\t\tcurr = pd.Timestamp.now()\n",
        "\t\tlast_month = curr.replace(day=1) - pd.Timedelta(days=1)\n",
        "\t\tdf = money_df.loc[money_df['Date'].dt.to_period(freq='M')== curr.to_period(freq='M') ].reset_index()\n",
        "\t\tlast_month_df =  money_df.loc[money_df['Date'].dt.to_period(freq='M')== last_month.to_period(freq='M') ].reset_index()\n",
        "\t\tmost_spend_cat = df[df['method']=='cash'].groupby('Category').sum().sort_values('price',ascending=False).iloc[0]\n",
        "\n",
        "\t\tst.header(f\"Monthly Spendings {curr.strftime('%b %Y')}\")\n",
        "\n",
        "\t\tst.subheader('Metrics')\n",
        "\t\tcol1 = st.columns([1,1,2])\n",
        "\t\tcol1[0].metric(label='This Month Spendings',\n",
        "\t\t\t\t\t\t\tvalue=millify(df[df['method']=='cash']['price'].sum(), precision=2),\n",
        "\t\t\t\t\t\t\tdelta=f\"{(df[df['method']=='cash']['price'].sum()-last_month_df[last_month_df['method']=='cash']['price'].sum())/last_month_df[last_month_df['method']=='cash']['price'].sum()*100:.2f}%\",\n",
        "\t\t\t\t\t\t\tdelta_color='inverse')\n",
        "\t\tcol1[1].metric(label='Last Month Spendings',\n",
        "\t\t\t\t\t\t\tvalue=millify(last_month_df[last_month_df['method']=='cash']['price'].sum(), precision=2))\n",
        "\t\tcol1[2].metric(label='Highest Spending Category',\n",
        "\t\t\t\t\t\t\tvalue=most_spend_cat.name.capitalize(),\n",
        "\t\t\t\t\t\t\tdelta=millify(most_spend_cat.price, precision=2),\n",
        "\t\t\t\t\t\t\tdelta_color='off')\n",
        "\t\t\n",
        "\t\tst.subheader('Spendings per Category')\n",
        "\t\tfig = px.bar(df[df['method']=='cash'].groupby('Category')['price'].sum().reset_index(),\n",
        "\t\t\t\t\t\t\t\tx='Category',y='price',text_auto=True,\n",
        "\t\t\t\t\t\t\t\tlabels={'price':'Total Spendings'})\n",
        "\t\tfig.update_layout(xaxis={'categoryorder':'total ascending'})\n",
        "\t\tst.plotly_chart(fig, use_container_width=True)\n",
        "\n",
        "\t\tst.subheader('Spending Trends')\n",
        "\t\tfig = px.line(df[df['method']=='cash'].groupby(pd.Grouper(key='Date',freq=('D')))['price'].sum().reset_index().sort_values('Date'), \n",
        "\t\t\t\t\t\t\t\tx=\"Date\", y=\"price\", \n",
        "\t\t\t\t\t\t\t\tlabels={'price':'Total Spendings'})\n",
        "\t\tst.plotly_chart(fig, use_container_width=True)\n",
        "\t\t#st.dataframe(df[['Name','price','method','Category','Date']])\n",
        "\t\n",
        "if __name__ == '__main__':\n",
        "\tmain()"
      ]
    },
    {
      "cell_type": "code",
      "execution_count": null,
      "metadata": {
        "id": "fFOalZ7yqtr7"
      },
      "outputs": [],
      "source": [
        "!streamlit run app.py &>/dev/null&"
      ]
    },
    {
      "cell_type": "code",
      "execution_count": null,
      "metadata": {
        "colab": {
          "base_uri": "https://localhost:8080/"
        },
        "id": "nZBv49jvt6bu",
        "outputId": "77afd294-765f-4cfd-b55b-b0e80cca45cc"
      },
      "outputs": [
        {
          "name": "stdout",
          "output_type": "stream",
          "text": [
            "334\n",
            "1731\n"
          ]
        }
      ],
      "source": [
        "!pgrep streamlit"
      ]
    },
    {
      "cell_type": "code",
      "execution_count": null,
      "metadata": {
        "id": "IXMl0rcrr5st"
      },
      "outputs": [],
      "source": [
        "public_url = ngrok.connect(port='8501')"
      ]
    },
    {
      "cell_type": "code",
      "execution_count": null,
      "metadata": {
        "colab": {
          "base_uri": "https://localhost:8080/",
          "height": 36
        },
        "id": "NBiEoVDdwcBd",
        "outputId": "068b6158-d50d-47fb-e42e-d46ea1657e89"
      },
      "outputs": [
        {
          "data": {
            "application/vnd.google.colaboratory.intrinsic+json": {
              "type": "string"
            },
            "text/plain": [
              "'http://1ff6-34-80-6-99.ngrok.io'"
            ]
          },
          "execution_count": 88,
          "metadata": {},
          "output_type": "execute_result"
        }
      ],
      "source": [
        "public_url"
      ]
    },
    {
      "cell_type": "code",
      "execution_count": null,
      "metadata": {
        "id": "jUcuaMgCuESN"
      },
      "outputs": [],
      "source": [
        "!kill 1731\n",
        "ngrok.kill()"
      ]
    }
  ],
  "metadata": {
    "colab": {
      "collapsed_sections": [
        "tTthiL_vBDW1",
        "VOpTSVaFf1qA",
        "l12Ru_ZCBOYq"
      ],
      "name": "Moneybook Text Processing",
      "provenance": []
    },
    "kernelspec": {
      "display_name": "Python 3",
      "name": "python3"
    },
    "language_info": {
      "name": "python"
    }
  },
  "nbformat": 4,
  "nbformat_minor": 0
}
